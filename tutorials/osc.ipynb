{
 "cells": [
  {
   "cell_type": "markdown",
   "metadata": {},
   "source": [
    "# Open Sound Control\n",
    "\n",
    "`Shrimp` can communicate with other programs using the Open Sound Control (OSC) protocol. Communication can be done in both directions: `Shrimp` can send OSC messages to other programs, and it can also receive OSC messages from other programs. This can be useful to make the software react to external events, or to control other software from `Shrimp`.\n",
    "\n",
    "OSC ports can be opened automatically by `Shrimp` when it starts, or they can be opened manually by the user at any time. See the configuration tutorial to learn how to configure OSC ports. We recommend using the automatic mode, as it is more convenient and less error-prone. If you still want to open the ports manually, refer to the appropriate section below."
   ]
  },
  {
   "cell_type": "markdown",
   "metadata": {},
   "source": [
    "# Sending OSC messages\n",
    "\n",
    "To send an OSC message, you need to know the address of the destination, and the message you want to send. The address is a string prepended with the `/` symbol (see [OSC specification](https://opensoundcontrol.stanford.edu/spec-1_0.html)). The message is a list of arguments that you want to send to the destination. The message can be of any length, and the arguments can be of any basic primitive type (integer, float, string, etc.)."
   ]
  },
  {
   "cell_type": "code",
   "execution_count": null,
   "metadata": {
    "vscode": {
     "languageId": "plaintext"
    }
   },
   "outputs": [],
   "source": [
    "# Assuming that 'osc' is the name of the OSC port connexion\n",
    "\n",
    "osc._send_message('/foo/bar', [42, 3.14, 'hello', 'world'])"
   ]
  },
  {
   "cell_type": "markdown",
   "metadata": {},
   "source": [
    "You can also send OSC bundles, which are lists of OSC messages that are sent together. This can be useful to send multiple messages to the same destination at the same time:"
   ]
  },
  {
   "cell_type": "code",
   "execution_count": null,
   "metadata": {
    "vscode": {
     "languageId": "plaintext"
    }
   },
   "outputs": [],
   "source": [
    "osc._send_bundle(messages: list)"
   ]
  },
  {
   "cell_type": "markdown",
   "metadata": {},
   "source": [
    "# Sending messages to SuperDirt\n",
    "\n",
    "Those of you familiar with live coding know about SuperDirt, a SuperCollider extension that allows you to interact with synthesizers and to play samples easily. It is a powerful audio engine for live performances. SuperDirt can be controlled using some special convenience methods:\n",
    "- `osc.dirt(**kwargs)`: sends a message to SuperDirt with the given keyword arguments. The keyword arguments are converted to key-value pairs, turned into an OSC message and sent to SuperDirt.\n",
    "- `osc.panic()`: sends a panic message to SuperDirt, which makes it stop all sounds immediately."
   ]
  },
  {
   "cell_type": "code",
   "execution_count": null,
   "metadata": {
    "vscode": {
     "languageId": "plaintext"
    }
   },
   "outputs": [],
   "source": [
    "osc.dirt(sound=\"bd\", speed=\"2\")\n",
    "osc.dirt(sound=\"clap\", room=0.5, size=0.25)\n",
    "\n",
    "# ... later on ...\n",
    "\n",
    "osc.panic()"
   ]
  },
  {
   "cell_type": "markdown",
   "metadata": {},
   "source": [
    "# Receiving OSC messages\n",
    "\n",
    "Each OSC port can also receive OSC messages and record incoming messages and values in a special memory area.\n",
    "\n",
    "TODO: continue documentation"
   ]
  },
  {
   "cell_type": "markdown",
   "metadata": {},
   "source": [
    "# Opening OSC Ports Manually\n",
    "\n",
    "Opening OSC ports manually is a two step process:\n",
    "1) Instantiate an OSC Port object\n",
    "2) Link it to the `Environment` instance\n",
    "\n",
    "The second step is necessary to ensure that the OSC port is properly closed when the environment is destroyed. It can also be useful to introduce complex message routing logic between different internal components of the application. The following code snippet shows how to open an OSC port manually:"
   ]
  },
  {
   "cell_type": "code",
   "execution_count": null,
   "metadata": {
    "vscode": {
     "languageId": "plaintext"
    }
   },
   "outputs": [],
   "source": [
    "my_osc_port = OSC(name=\"my_osc_port\", ip=\"127.0.0.1\", port=8000, clock=clock)\n",
    "env.subscribe(my_osc_port)\n",
    "\n",
    "# You can now send messages to the OSC port\n",
    "osc._send(\"/my/osc/address\", [1, 2, 3])"
   ]
  }
 ],
 "metadata": {
  "language_info": {
   "name": "python"
  }
 },
 "nbformat": 4,
 "nbformat_minor": 2
}
