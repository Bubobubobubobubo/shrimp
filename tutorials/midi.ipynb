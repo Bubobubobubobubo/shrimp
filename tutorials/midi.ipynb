{
 "cells": [
  {
   "cell_type": "markdown",
   "metadata": {},
   "source": [
    "# MIDI\n",
    "\n",
    "`Baston` provides an interface to send and receive MIDI messages. In order to use MIDI, a few prerequisites are needed:\n",
    "- A MIDI interface (hardware or software) detected by the system.\n",
    "   - Note that you can use virtual MIDI interfaces like `loopMIDI` on Windows or `IAC Driver` on macOS.\n",
    "\n",
    "Check out the Configuration section to see how to configure and declare MIDI interface. Once a MIDI interface is configured, you can start sending and receiving MIDI messages. We encourage you to use the configuration file to declare the MIDI interface, but you can also declare them manually (see below)."
   ]
  },
  {
   "cell_type": "code",
   "execution_count": 4,
   "metadata": {},
   "outputs": [
    {
     "data": {
      "text/html": [
       "<pre style=\"white-space:pre;overflow-x:auto;line-height:normal;font-family:Menlo,'DejaVu Sans Mono',consolas,'Courier New',monospace\"><span style=\"color: #000080; text-decoration-color: #000080; font-weight: bold\">oooooooooo.                         .                         </span>\n",
       "<span style=\"color: #000080; text-decoration-color: #000080; font-weight: bold\">`</span><span style=\"color: #000080; text-decoration-color: #000080; font-weight: bold\">888</span><span style=\"color: #000080; text-decoration-color: #000080; font-weight: bold\">'   `Y8b                      .o8                         </span>\n",
       "<span style=\"color: #000080; text-decoration-color: #000080; font-weight: bold\"> </span><span style=\"color: #000080; text-decoration-color: #000080; font-weight: bold\">888</span><span style=\"color: #000080; text-decoration-color: #000080; font-weight: bold\">     </span><span style=\"color: #000080; text-decoration-color: #000080; font-weight: bold\">888</span><span style=\"color: #000080; text-decoration-color: #000080; font-weight: bold\">  .oooo.    .oooo.o .o888oo  .ooooo.  ooo. .oo.   </span>\n",
       "<span style=\"color: #000080; text-decoration-color: #000080; font-weight: bold\"> 888oooo888' `P  )88b  d88(  </span><span style=\"color: #000080; text-decoration-color: #000080; font-weight: bold\">\"8   888   d88' `88b `888P\"</span><span style=\"color: #000080; text-decoration-color: #000080; font-weight: bold\">Y88b  </span>\n",
       "<span style=\"color: #000080; text-decoration-color: #000080; font-weight: bold\"> </span><span style=\"color: #000080; text-decoration-color: #000080; font-weight: bold\">888</span><span style=\"color: #000080; text-decoration-color: #000080; font-weight: bold\">    `88b  .oP\"</span><span style=\"color: #000080; text-decoration-color: #000080; font-weight: bold\">888</span><span style=\"color: #000080; text-decoration-color: #000080; font-weight: bold\">  `\"Y88b.    </span><span style=\"color: #000080; text-decoration-color: #000080; font-weight: bold\">888</span><span style=\"color: #000080; text-decoration-color: #000080; font-weight: bold\">   </span><span style=\"color: #000080; text-decoration-color: #000080; font-weight: bold\">888</span><span style=\"color: #000080; text-decoration-color: #000080; font-weight: bold\">   </span><span style=\"color: #000080; text-decoration-color: #000080; font-weight: bold\">888</span><span style=\"color: #000080; text-decoration-color: #000080; font-weight: bold\">  </span><span style=\"color: #000080; text-decoration-color: #000080; font-weight: bold\">888</span><span style=\"color: #000080; text-decoration-color: #000080; font-weight: bold\">   </span><span style=\"color: #000080; text-decoration-color: #000080; font-weight: bold\">888</span><span style=\"color: #000080; text-decoration-color: #000080; font-weight: bold\">  </span>\n",
       "<span style=\"color: #000080; text-decoration-color: #000080; font-weight: bold\"> </span><span style=\"color: #000080; text-decoration-color: #000080; font-weight: bold\">888</span><span style=\"color: #000080; text-decoration-color: #000080; font-weight: bold\">    .88P d8(  </span><span style=\"color: #000080; text-decoration-color: #000080; font-weight: bold\">888</span><span style=\"color: #000080; text-decoration-color: #000080; font-weight: bold\">  o.  )88b   </span><span style=\"color: #000080; text-decoration-color: #000080; font-weight: bold\">888</span><span style=\"color: #000080; text-decoration-color: #000080; font-weight: bold\"> . </span><span style=\"color: #000080; text-decoration-color: #000080; font-weight: bold\">888</span><span style=\"color: #000080; text-decoration-color: #000080; font-weight: bold\">   </span><span style=\"color: #000080; text-decoration-color: #000080; font-weight: bold\">888</span><span style=\"color: #000080; text-decoration-color: #000080; font-weight: bold\">  </span><span style=\"color: #000080; text-decoration-color: #000080; font-weight: bold\">888</span><span style=\"color: #000080; text-decoration-color: #000080; font-weight: bold\">   </span><span style=\"color: #000080; text-decoration-color: #000080; font-weight: bold\">888</span><span style=\"color: #000080; text-decoration-color: #000080; font-weight: bold\">  </span>\n",
       "<span style=\"color: #000080; text-decoration-color: #000080; font-weight: bold\">o888bood8P'  `Y888\"</span><span style=\"color: #000080; text-decoration-color: #000080; font-weight: bold\">\"8o 8\"\"888P'   \"888</span><span style=\"color: #000080; text-decoration-color: #000080; font-weight: bold\">\" `Y8bod8P' o888o o888o </span>\n",
       "<span style=\"color: #000080; text-decoration-color: #000080; font-weight: bold\">                                                              </span>\n",
       "<span style=\"color: #000080; text-decoration-color: #000080; font-weight: bold\">                                                              </span>\n",
       "<span style=\"color: #000080; text-decoration-color: #000080; font-weight: bold\">                                                              </span>\n",
       "\n",
       "<span style=\"color: #808000; text-decoration-color: #808000; font-weight: bold\">&gt; Live Coding tool, BuboBubo </span><span style=\"color: #808000; text-decoration-color: #808000; font-weight: bold\">0.0</span><span style=\"color: #808000; text-decoration-color: #808000; font-weight: bold\">.</span><span style=\"color: #808000; text-decoration-color: #808000; font-weight: bold\">1</span>\n",
       "</pre>\n"
      ],
      "text/plain": [
       "\u001b[1;34moooooooooo.                         .                         \u001b[0m\n",
       "\u001b[1;34m`\u001b[0m\u001b[1;34m888\u001b[0m\u001b[1;34m'   `Y8b                      .o8                         \u001b[0m\n",
       "\u001b[1;34m \u001b[0m\u001b[1;34m888\u001b[0m\u001b[1;34m     \u001b[0m\u001b[1;34m888\u001b[0m\u001b[1;34m  .oooo.    .oooo.o .o888oo  .ooooo.  ooo. .oo.   \u001b[0m\n",
       "\u001b[1;34m 888oooo888' `P  \u001b[0m\u001b[1;34m)\u001b[0m\u001b[1;34m88b  \u001b[0m\u001b[1;34md88\u001b[0m\u001b[1;34m(\u001b[0m\u001b[1;34m  \u001b[0m\u001b[1;34m\"8   888   d88' `88b `888P\"\u001b[0m\u001b[1;34mY88b  \u001b[0m\n",
       "\u001b[1;34m \u001b[0m\u001b[1;34m888\u001b[0m\u001b[1;34m    `88b  .oP\"\u001b[0m\u001b[1;34m888\u001b[0m\u001b[1;34m  `\"Y88b.    \u001b[0m\u001b[1;34m888\u001b[0m\u001b[1;34m   \u001b[0m\u001b[1;34m888\u001b[0m\u001b[1;34m   \u001b[0m\u001b[1;34m888\u001b[0m\u001b[1;34m  \u001b[0m\u001b[1;34m888\u001b[0m\u001b[1;34m   \u001b[0m\u001b[1;34m888\u001b[0m\u001b[1;34m  \u001b[0m\n",
       "\u001b[1;34m \u001b[0m\u001b[1;34m888\u001b[0m\u001b[1;34m    .88P \u001b[0m\u001b[1;34md8\u001b[0m\u001b[1;34m(\u001b[0m\u001b[1;34m  \u001b[0m\u001b[1;34m888\u001b[0m\u001b[1;34m  o.  \u001b[0m\u001b[1;34m)\u001b[0m\u001b[1;34m88b   \u001b[0m\u001b[1;34m888\u001b[0m\u001b[1;34m . \u001b[0m\u001b[1;34m888\u001b[0m\u001b[1;34m   \u001b[0m\u001b[1;34m888\u001b[0m\u001b[1;34m  \u001b[0m\u001b[1;34m888\u001b[0m\u001b[1;34m   \u001b[0m\u001b[1;34m888\u001b[0m\u001b[1;34m  \u001b[0m\n",
       "\u001b[1;34mo888bood8P'  `Y888\"\u001b[0m\u001b[1;34m\"8o 8\"\u001b[0m\u001b[1;34m\"888P'   \"\u001b[0m\u001b[1;34m888\u001b[0m\u001b[1;34m\" `Y8bod8P' o888o o888o \u001b[0m\n",
       "\u001b[1;34m                                                              \u001b[0m\n",
       "\u001b[1;34m                                                              \u001b[0m\n",
       "\u001b[1;34m                                                              \u001b[0m\n",
       "\n",
       "\u001b[1;33m> Live Coding tool, BuboBubo \u001b[0m\u001b[1;33m0.0\u001b[0m\u001b[1;33m.\u001b[0m\u001b[1;33m1\u001b[0m\n"
      ]
     },
     "metadata": {},
     "output_type": "display_data"
    },
    {
     "data": {
      "text/html": [
       "<pre style=\"white-space:pre;overflow-x:auto;line-height:normal;font-family:Menlo,'DejaVu Sans Mono',consolas,'Courier New',monospace\"><span style=\"color: #808000; text-decoration-color: #808000; font-weight: bold\">&gt; MIDI Output added: </span><span style=\"color: #800000; text-decoration-color: #800000; font-weight: bold\">midi</span><span style=\"color: #808000; text-decoration-color: #808000; font-weight: bold\"> </span>\n",
       "</pre>\n"
      ],
      "text/plain": [
       "\u001b[1;33m> MIDI Output added: \u001b[0m\u001b[1;31mmidi\u001b[0m\u001b[1;33m \u001b[0m\n"
      ]
     },
     "metadata": {},
     "output_type": "display_data"
    },
    {
     "data": {
      "text/html": [
       "<pre style=\"white-space:pre;overflow-x:auto;line-height:normal;font-family:Menlo,'DejaVu Sans Mono',consolas,'Courier New',monospace\"><span style=\"color: #808000; text-decoration-color: #808000; font-weight: bold\">&gt; MIDI Instrument added: </span><span style=\"color: #800000; text-decoration-color: #800000; font-weight: bold\">kabelsalat_instrument</span><span style=\"color: #808000; text-decoration-color: #808000; font-weight: bold\"> </span>\n",
       "</pre>\n"
      ],
      "text/plain": [
       "\u001b[1;33m> MIDI Instrument added: \u001b[0m\u001b[1;31mkabelsalat_instrument\u001b[0m\u001b[1;33m \u001b[0m\n"
      ]
     },
     "metadata": {},
     "output_type": "display_data"
    },
    {
     "data": {
      "text/html": [
       "<pre style=\"white-space:pre;overflow-x:auto;line-height:normal;font-family:Menlo,'DejaVu Sans Mono',consolas,'Courier New',monospace\"><span style=\"color: #808000; text-decoration-color: #808000; font-weight: bold\">&gt; OSC Port added: </span><span style=\"color: #800000; text-decoration-color: #800000; font-weight: bold\">superdirt</span><span style=\"color: #808000; text-decoration-color: #808000; font-weight: bold\"> </span>\n",
       "</pre>\n"
      ],
      "text/plain": [
       "\u001b[1;33m> OSC Port added: \u001b[0m\u001b[1;31msuperdirt\u001b[0m\u001b[1;33m \u001b[0m\n"
      ]
     },
     "metadata": {},
     "output_type": "display_data"
    }
   ],
   "source": [
    "from baston import *"
   ]
  },
  {
   "cell_type": "markdown",
   "metadata": {},
   "source": [
    "## MIDI Output \n",
    "\n",
    "`Baston` provides a simple way to send many different types of MIDI messages:\n",
    "- `midi.note(note: int, velocity: int, channel: int, duration: int|float)`: Send a note on/off message on the given duration.\n",
    "- `midi.cc(cc: int, value: int, channel: int)`: Send a control change message.\n",
    "- `midi.pc(program: int, channel: int)`: Send a program change message.\n",
    "- `midi.pitch_bend(value: int, channel: int)`: Send a pitch bend message.\n",
    "- `midi.sys_ex(data: List[int])`: Send a system exclusive message.\n",
    "\n",
    "You can also make use of the internal `_note_on` and `_note_off` messages if you need them."
   ]
  },
  {
   "cell_type": "code",
   "execution_count": 7,
   "metadata": {
    "vscode": {
     "languageId": "plaintext"
    }
   },
   "outputs": [],
   "source": [
    "# Assuming that \"midi\" port exists\n",
    "\n",
    "midi.note(50, channel= 1, duration= 2)\n",
    "midi.control_change(1, 127, channel= 1)"
   ]
  },
  {
   "cell_type": "markdown",
   "metadata": {},
   "source": [
    "## Manual MIDI Port Creation\n",
    "\n",
    "If you don't want to go through the declarative way of creating MIDI ports, you can create them manually. Note that creating MIDI ports manually is a two-step process:\n",
    "1) create a MIDI input/output port\n",
    "2) declare the MIDI port to the environment\n",
    "\n",
    "This second step is crucial in order to certain messages (`all_notes_off`). "
   ]
  },
  {
   "cell_type": "code",
   "execution_count": null,
   "metadata": {
    "vscode": {
     "languageId": "plaintext"
    }
   },
   "outputs": [],
   "source": [
    "midi_out_port = MIDIOut(\"port_name\", clock)\n",
    "midi_in_port = MIDIIn(\"port_name\", clock)\n",
    "\n",
    "env.subscribe(midi_in_port)\n",
    "env.subscribe(midi_out_port)"
   ]
  }
 ],
 "metadata": {
  "kernelspec": {
   "display_name": "Python 3 (ipykernel)",
   "language": "python",
   "name": "python3"
  },
  "language_info": {
   "codemirror_mode": {
    "name": "ipython",
    "version": 3
   },
   "file_extension": ".py",
   "mimetype": "text/x-python",
   "name": "python",
   "nbconvert_exporter": "python",
   "pygments_lexer": "ipython3",
   "version": "3.12.4"
  }
 },
 "nbformat": 4,
 "nbformat_minor": 4
}
