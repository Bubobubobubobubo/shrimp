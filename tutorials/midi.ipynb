{
 "cells": [
  {
   "cell_type": "markdown",
   "metadata": {},
   "source": [
    "# MIDI\n",
    "\n",
    "`Baston` provides an interface to send and receive MIDI messages. In order to use MIDI, a few prerequisites are needed:\n",
    "- A MIDI interface (hardware or software) detected by the system.\n",
    "   - Note that you can use virtual MIDI interfaces like `loopMIDI` on Windows or `IAC Driver` on macOS.\n",
    "\n",
    "Check out the Configuration section to see how to configure and declare MIDI interface. Once a MIDI interface is configured, you can start sending and receiving MIDI messages. We encourage you to use the configuration file to declare the MIDI interface, but you can also declare them manually (see below)."
   ]
  },
  {
   "cell_type": "markdown",
   "metadata": {},
   "source": [
    "## MIDI Output \n",
    "\n",
    "`Baston` provides a simple way to send many different types of MIDI messages:\n",
    "- `midi.note(note: int, velocity: int, channel: int, duration: int|float)`: Send a note on/off message on the given duration.\n",
    "- `midi.cc(cc: int, value: int, channel: int)`: Send a control change message.\n",
    "- `midi.pc(program: int, channel: int)`: Send a program change message.\n",
    "- `midi.pitch_bend(value: int, channel: int)`: Send a pitch bend message.\n",
    "- `midi.sys_ex(data: List[int])`: Send a system exclusive message.\n",
    "\n",
    "You can also make use of the internal `_note_on` and `_note_off` messages if you need them."
   ]
  },
  {
   "cell_type": "code",
   "execution_count": null,
   "metadata": {
    "vscode": {
     "languageId": "plaintext"
    }
   },
   "outputs": [],
   "source": [
    "# Assuming that \"midi\" port exists\n",
    "\n",
    "midi.send(50, channel: 1, duration: 2)\n",
    "midi.cc(1, 127, channel: 1)"
   ]
  },
  {
   "cell_type": "markdown",
   "metadata": {},
   "source": [
    "## Manual MIDI Port Creation\n",
    "\n",
    "If you don't want to go through the declarative way of creating MIDI ports, you can create them manually. Note that creating MIDI ports manually is a two-step process:\n",
    "1) create a MIDI input/output port\n",
    "2) declare the MIDI port to the environment\n",
    "\n",
    "This second step is crucial in order to certain messages (`all_notes_off`). "
   ]
  },
  {
   "cell_type": "code",
   "execution_count": null,
   "metadata": {
    "vscode": {
     "languageId": "plaintext"
    }
   },
   "outputs": [],
   "source": [
    "midi_out_port = MIDIOut(\"port_name\", clock)\n",
    "midi_in_port = MIDIIn(\"port_name\", clock)\n",
    "\n",
    "env.subscribe(midi_in_port)\n",
    "env.subscribe(midi_out_port)"
   ]
  }
 ],
 "metadata": {
  "language_info": {
   "name": "python"
  }
 },
 "nbformat": 4,
 "nbformat_minor": 2
}
