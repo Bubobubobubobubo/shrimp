{
 "cells": [
  {
   "cell_type": "markdown",
   "metadata": {},
   "source": [
    "# MIDI"
   ]
  },
  {
   "cell_type": "code",
   "execution_count": null,
   "metadata": {},
   "outputs": [],
   "source": [
    "from baston import *"
   ]
  },
  {
   "cell_type": "markdown",
   "metadata": {},
   "source": [
    "`Baston` provides an interface to send and receive MIDI messages. In order to use MIDI, a few prerequisites are needed:\n",
    "- A MIDI interface (hardware or software) detected by the system.\n",
    "   - Note that you can use virtual MIDI interfaces like `loopMIDI` on Windows or `IAC Driver` on macOS.\n",
    "\n",
    "Check out the tutorial about configuration to see how to declare a MIDI interface. Once a MIDI interface is configured, you can start sending and receiving MIDI messages. We encourage you to use the configuration file to declare a MIDI interface, but you can also do it manually if you prefer (see below)."
   ]
  },
  {
   "cell_type": "markdown",
   "metadata": {},
   "source": [
    "## MIDI Output \n",
    "\n",
    "`Baston` provides a simple way to send many different types of MIDI messages:\n",
    "- `midi.note(note: int, velocity: int, channel: int, duration: int|float)`: Send a note on/off message on the given duration.\n",
    "- `midi.control_change(cc: int, value: int, channel: int)`: Send a control change message.\n",
    "- `midi.program_change(program: int, channel: int)`: Send a program change message.\n",
    "- `midi.pitch_bend(value: int, channel: int)`: Send a pitch bend message.\n",
    "- `midi.sysex(data: List[int])`: Send a system exclusive message.\n",
    "\n",
    "You can also make use of the internal `_note_on` and `_note_off` messages if you need them."
   ]
  },
  {
   "cell_type": "markdown",
   "metadata": {},
   "source": [
    "## Playing a note"
   ]
  },
  {
   "cell_type": "markdown",
   "metadata": {},
   "source": [
    "To play a note, use the following command:"
   ]
  },
  {
   "cell_type": "code",
   "execution_count": null,
   "metadata": {},
   "outputs": [],
   "source": [
    "# Please declare a MIDI port named 'midi' first\n",
    "if midi:\n",
    "    midi.note(50, channel= 1, duration= 2)"
   ]
  },
  {
   "cell_type": "markdown",
   "metadata": {},
   "source": [
    "You can also play multiple notes at the same time:"
   ]
  },
  {
   "cell_type": "code",
   "execution_count": 42,
   "metadata": {},
   "outputs": [],
   "source": [
    "# A small chord progression\n",
    "clock.add(lambda: midi.note([50, 57, 61, 66]), clock.now)\n",
    "clock.add(lambda: midi.note([50-12, 57, 61, 73]), clock.now + 1.5)\n",
    "clock.add(lambda: midi.note([50-7, 53, 58, 62]), clock.now + 2)"
   ]
  },
  {
   "cell_type": "markdown",
   "metadata": {},
   "source": [
    "## Control messages"
   ]
  },
  {
   "cell_type": "markdown",
   "metadata": {},
   "source": [
    "Control messages are used to control synth parameters, all values in-between 0 and 127 (`int`). You need to specify the `value`, the `channel` (0 to 16) and the `control` value:"
   ]
  },
  {
   "cell_type": "code",
   "execution_count": 44,
   "metadata": {},
   "outputs": [],
   "source": [
    "midi.control_change(control=20, value=50, channel=0)"
   ]
  },
  {
   "cell_type": "markdown",
   "metadata": {},
   "source": [
    "## Program changes"
   ]
  },
  {
   "cell_type": "markdown",
   "metadata": {},
   "source": [
    "THe role of the program change message is to change the preset used on your synthesizer. You need to specify the `program` and the `channel`:"
   ]
  },
  {
   "cell_type": "code",
   "execution_count": null,
   "metadata": {},
   "outputs": [],
   "source": [
    "midi.program_change(program=0, channel=0)"
   ]
  },
  {
   "cell_type": "markdown",
   "metadata": {},
   "source": [
    "## System Exclusive messages"
   ]
  },
  {
   "cell_type": "markdown",
   "metadata": {},
   "source": [
    "System exclusive messages are used to send custom messages to your synthesizer. This type of message has been used by manufacturers to send custom messages to their synthesizers without strictly following the MIDI standard. It has always been annoying to use, but it can be very powerful. You need to specify the data as a list of integers:"
   ]
  },
  {
   "cell_type": "code",
   "execution_count": null,
   "metadata": {},
   "outputs": [],
   "source": [
    "midi.sysex([0xF0, 0x7E, 0x7F, 0x09, 0x01, 0xF7])"
   ]
  },
  {
   "cell_type": "markdown",
   "metadata": {},
   "source": [
    "## Manual MIDI Port Creation\n",
    "\n",
    "If you don't want to go through the declarative way of creating MIDI ports, you can create them manually. Note that creating MIDI ports manually is a two-step process:\n",
    "1) create a MIDI input/output port\n",
    "2) declare the MIDI port to the environment\n",
    "\n",
    "This second step is crucial in order to certain messages (`all_notes_off`). "
   ]
  },
  {
   "cell_type": "code",
   "execution_count": null,
   "metadata": {
    "vscode": {
     "languageId": "plaintext"
    }
   },
   "outputs": [],
   "source": [
    "midi_out_port = MIDIOut(\"port_name\", clock)\n",
    "midi_in_port = MIDIIn(\"port_name\", clock)\n",
    "\n",
    "env.subscribe(midi_in_port)\n",
    "env.subscribe(midi_out_port)"
   ]
  }
 ],
 "metadata": {
  "kernelspec": {
   "display_name": "Python 3 (ipykernel)",
   "language": "python",
   "name": "python3"
  },
  "language_info": {
   "codemirror_mode": {
    "name": "ipython",
    "version": 3
   },
   "file_extension": ".py",
   "mimetype": "text/x-python",
   "name": "python",
   "nbconvert_exporter": "python",
   "pygments_lexer": "ipython3",
   "version": "3.12.4"
  }
 },
 "nbformat": 4,
 "nbformat_minor": 4
}
