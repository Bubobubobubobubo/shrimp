{
 "cells": [
  {
   "cell_type": "markdown",
   "metadata": {},
   "source": [
    "# Temporal Recursive Functions"
   ]
  },
  {
   "cell_type": "markdown",
   "metadata": {},
   "source": [
    "## Running code"
   ]
  },
  {
   "cell_type": "markdown",
   "metadata": {},
   "source": [
    "`Shrimp` uses _temporal recursive functions_ as a way to sequence code execution in time. A function is called temporal recursive if the function calls itself back in the future in its own definition. To do so, we use the `clock.add(func: Callable, time: int|float)` method. This method schedules the function to be called back in the future. Arguments can be passed to the function using the `args` and `kwargs` parameters of the `add` method."
   ]
  },
  {
   "cell_type": "code",
   "execution_count": null,
   "metadata": {},
   "outputs": [],
   "source": [
    "from shrimp import *\n",
    "\n",
    "def recursive_function(count: int = 0):\n",
    "    print(f\"Count: {count}\")\n",
    "    if count < 10:\n",
    "        clock.add(recursive_function, clock.beat + 1, count=count + 1)"
   ]
  },
  {
   "cell_type": "markdown",
   "metadata": {},
   "source": [
    "This function defines a counter from 0 to 10. To run it, call the `clock.add()` method from outside the function scope. Note that you also need to call it from inside the function scope in order to re-schedule the execution later on."
   ]
  },
  {
   "cell_type": "code",
   "execution_count": null,
   "metadata": {},
   "outputs": [],
   "source": [
    "clock.add(recursive_function, clock.next_bar)\n",
    "clock.play()"
   ]
  },
  {
   "cell_type": "markdown",
   "metadata": {},
   "source": [
    "And.. it counts to 10. The function schedules itself to be called for every beat, and starts at the beginning of the next bar from current time. To stop the recursion, you can just remove the `clock.add` call from the function. You can also plan ahead like I did in this example by not looping based on a condition."
   ]
  },
  {
   "cell_type": "markdown",
   "metadata": {},
   "source": [
    "## Updating code"
   ]
  },
  {
   "cell_type": "markdown",
   "metadata": {},
   "source": [
    "You can update a temporal recursive function whenever you want! It will start playing the new version of it the next time the function will be called. Try evaluating these two examples, you can evaluate one, then the other, and back again, etc. To stop the evaluation, please run the `clock.clear(example)` command."
   ]
  },
  {
   "cell_type": "code",
   "execution_count": null,
   "metadata": {},
   "outputs": [],
   "source": [
    "# Our first function\n",
    "def example():\n",
    "    print(\"Saying something\")\n",
    "    clock.add(example, clock.now + 1)"
   ]
  },
  {
   "cell_type": "code",
   "execution_count": null,
   "metadata": {},
   "outputs": [],
   "source": [
    "# Another one to evaluate\n",
    "def example():\n",
    "    print(\"Saying something else\")\n",
    "    clock.add(example, clock.now + 1)"
   ]
  },
  {
   "cell_type": "code",
   "execution_count": null,
   "metadata": {},
   "outputs": [],
   "source": [
    "clock.add(example, clock.now)"
   ]
  },
  {
   "cell_type": "code",
   "execution_count": null,
   "metadata": {},
   "outputs": [],
   "source": [
    "clock.clear()"
   ]
  },
  {
   "cell_type": "markdown",
   "metadata": {},
   "source": [
    "## Useful clock methods"
   ]
  },
  {
   "cell_type": "markdown",
   "metadata": {},
   "source": [
    "The `clock` class has a few methods you need to learn:\n",
    "- `clock.add(func: Callable, time: int|float, args: Tuple = (), kwargs: Dict = {})` schedules a function to be called in the future.\n",
    "- `clock.remove(func: Callable)` removes a function from the scheduler.\n",
    "- `clock.clear()` removes all functions from the scheduler."
   ]
  },
  {
   "cell_type": "code",
   "execution_count": null,
   "metadata": {},
   "outputs": [],
   "source": [
    "def dummy_function():\n",
    "    print(\"I am running\")\n",
    "    clock.add(dummy_function, clock.next_beat)\n",
    "\n",
    "clock.add(dummy_function, clock.next_bar)\n",
    "\n",
    "# ... wait for a moment ...\n",
    "\n",
    "clock.add(lambda: clock.remove(dummy_function), clock.now + 5)\n",
    "\n",
    "# ... alternatively ...\n",
    "\n",
    "clock.add(lambda: clock.clear(), clock.now + 5)"
   ]
  },
  {
   "cell_type": "markdown",
   "metadata": {},
   "source": [
    "There is a special decorator called `@loop_now` to automatically add a function to the scheduler whenever code is evaluated. It can be helpful to play a function as soon as it is evaluated! You can also specify a `quant` argument to start running it at a specific time: `now`, `beat` (next beat), `bar` (next bar). You can also use a number `n` for `quant`. It will evaluate to `clock.now + n`."
   ]
  },
  {
   "cell_type": "code",
   "execution_count": null,
   "metadata": {},
   "outputs": [],
   "source": [
    "@loop_now()\n",
    "def dummy_function():\n",
    "    print(\"Dummy function\")\n",
    "    loopr(dummy_function, 1)\n",
    "\n",
    "clock.add(lambda: clock.clear(), clock.now + 3)"
   ]
  }
 ],
 "metadata": {
  "kernelspec": {
   "display_name": "Python 3 (ipykernel)",
   "language": "python",
   "name": "python3"
  },
  "language_info": {
   "codemirror_mode": {
    "name": "ipython",
    "version": 3
   },
   "file_extension": ".py",
   "mimetype": "text/x-python",
   "name": "python",
   "nbconvert_exporter": "python",
   "pygments_lexer": "ipython3",
   "version": "3.12.4"
  }
 },
 "nbformat": 4,
 "nbformat_minor": 4
}
