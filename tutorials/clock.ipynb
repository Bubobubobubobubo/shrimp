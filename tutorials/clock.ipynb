{
 "cells": [
  {
   "cell_type": "markdown",
   "id": "5ec540f4-231e-4ed6-81bf-b9959966859e",
   "metadata": {},
   "source": [
    "# Clock"
   ]
  },
  {
   "cell_type": "code",
   "execution_count": 1,
   "id": "b75d9b59-6d0c-4adf-9968-2bbda6578689",
   "metadata": {},
   "outputs": [
    {
     "data": {
      "text/html": [
       "<pre style=\"white-space:pre;overflow-x:auto;line-height:normal;font-family:Menlo,'DejaVu Sans Mono',consolas,'Courier New',monospace\"><span style=\"color: #000080; text-decoration-color: #000080; font-weight: bold\">8</span><span style=\"color: #000080; text-decoration-color: #000080; font-weight: bold\">\"</span><span style=\"color: #000080; text-decoration-color: #000080; font-weight: bold\">\"\"</span><span style=\"color: #000080; text-decoration-color: #000080; font-weight: bold\">\"</span><span style=\"color: #000080; text-decoration-color: #000080; font-weight: bold\">8</span><span style=\"color: #000080; text-decoration-color: #000080; font-weight: bold\">                                 </span>\n",
       "<span style=\"color: #000080; text-decoration-color: #000080; font-weight: bold\">8</span><span style=\"color: #000080; text-decoration-color: #000080; font-weight: bold\">    </span><span style=\"color: #000080; text-decoration-color: #000080; font-weight: bold\">8</span><span style=\"color: #000080; text-decoration-color: #000080; font-weight: bold\">   eeeee eeeee eeeee eeeee eeeee </span>\n",
       "<span style=\"color: #000080; text-decoration-color: #000080; font-weight: bold\">8eeee8ee </span><span style=\"color: #000080; text-decoration-color: #000080; font-weight: bold\">8</span><span style=\"color: #000080; text-decoration-color: #000080; font-weight: bold\">   </span><span style=\"color: #000080; text-decoration-color: #000080; font-weight: bold\">8</span><span style=\"color: #000080; text-decoration-color: #000080; font-weight: bold\"> </span><span style=\"color: #000080; text-decoration-color: #000080; font-weight: bold\">8</span><span style=\"color: #000080; text-decoration-color: #000080; font-weight: bold\">   \"   </span><span style=\"color: #000080; text-decoration-color: #000080; font-weight: bold\">8</span><span style=\"color: #000080; text-decoration-color: #000080; font-weight: bold\">   </span><span style=\"color: #000080; text-decoration-color: #000080; font-weight: bold\">8</span><span style=\"color: #000080; text-decoration-color: #000080; font-weight: bold\">  </span><span style=\"color: #000080; text-decoration-color: #000080; font-weight: bold\">88</span><span style=\"color: #000080; text-decoration-color: #000080; font-weight: bold\"> </span><span style=\"color: #000080; text-decoration-color: #000080; font-weight: bold\">8</span><span style=\"color: #000080; text-decoration-color: #000080; font-weight: bold\">   </span><span style=\"color: #000080; text-decoration-color: #000080; font-weight: bold\">8</span><span style=\"color: #000080; text-decoration-color: #000080; font-weight: bold\"> </span>\n",
       "<span style=\"color: #000080; text-decoration-color: #000080; font-weight: bold\">88</span><span style=\"color: #000080; text-decoration-color: #000080; font-weight: bold\">     </span><span style=\"color: #000080; text-decoration-color: #000080; font-weight: bold\">8</span><span style=\"color: #000080; text-decoration-color: #000080; font-weight: bold\"> 8eee8 8eeee   8e  </span><span style=\"color: #000080; text-decoration-color: #000080; font-weight: bold\">8</span><span style=\"color: #000080; text-decoration-color: #000080; font-weight: bold\">   </span><span style=\"color: #000080; text-decoration-color: #000080; font-weight: bold\">8</span><span style=\"color: #000080; text-decoration-color: #000080; font-weight: bold\"> 8e  </span><span style=\"color: #000080; text-decoration-color: #000080; font-weight: bold\">8</span><span style=\"color: #000080; text-decoration-color: #000080; font-weight: bold\"> </span>\n",
       "<span style=\"color: #000080; text-decoration-color: #000080; font-weight: bold\">88</span><span style=\"color: #000080; text-decoration-color: #000080; font-weight: bold\">     </span><span style=\"color: #000080; text-decoration-color: #000080; font-weight: bold\">8</span><span style=\"color: #000080; text-decoration-color: #000080; font-weight: bold\"> </span><span style=\"color: #000080; text-decoration-color: #000080; font-weight: bold\">88</span><span style=\"color: #000080; text-decoration-color: #000080; font-weight: bold\">  </span><span style=\"color: #000080; text-decoration-color: #000080; font-weight: bold\">8</span><span style=\"color: #000080; text-decoration-color: #000080; font-weight: bold\">    </span><span style=\"color: #000080; text-decoration-color: #000080; font-weight: bold\">88</span><span style=\"color: #000080; text-decoration-color: #000080; font-weight: bold\">   </span><span style=\"color: #000080; text-decoration-color: #000080; font-weight: bold\">88</span><span style=\"color: #000080; text-decoration-color: #000080; font-weight: bold\">  </span><span style=\"color: #000080; text-decoration-color: #000080; font-weight: bold\">8</span><span style=\"color: #000080; text-decoration-color: #000080; font-weight: bold\">   </span><span style=\"color: #000080; text-decoration-color: #000080; font-weight: bold\">8</span><span style=\"color: #000080; text-decoration-color: #000080; font-weight: bold\"> </span><span style=\"color: #000080; text-decoration-color: #000080; font-weight: bold\">88</span><span style=\"color: #000080; text-decoration-color: #000080; font-weight: bold\">  </span><span style=\"color: #000080; text-decoration-color: #000080; font-weight: bold\">8</span><span style=\"color: #000080; text-decoration-color: #000080; font-weight: bold\"> </span>\n",
       "<span style=\"color: #000080; text-decoration-color: #000080; font-weight: bold\">88eeeee8 </span><span style=\"color: #000080; text-decoration-color: #000080; font-weight: bold\">88</span><span style=\"color: #000080; text-decoration-color: #000080; font-weight: bold\">  </span><span style=\"color: #000080; text-decoration-color: #000080; font-weight: bold\">8</span><span style=\"color: #000080; text-decoration-color: #000080; font-weight: bold\"> 8ee88   </span><span style=\"color: #000080; text-decoration-color: #000080; font-weight: bold\">88</span><span style=\"color: #000080; text-decoration-color: #000080; font-weight: bold\">  8eee8 </span><span style=\"color: #000080; text-decoration-color: #000080; font-weight: bold\">88</span><span style=\"color: #000080; text-decoration-color: #000080; font-weight: bold\">  </span><span style=\"color: #000080; text-decoration-color: #000080; font-weight: bold\">8</span><span style=\"color: #000080; text-decoration-color: #000080; font-weight: bold\"> </span>\n",
       "<span style=\"color: #000080; text-decoration-color: #000080; font-weight: bold\">                                       </span>\n",
       "\n",
       "<span style=\"color: #808000; text-decoration-color: #808000; font-weight: bold\">&gt; Live Coding tool, BuboBubo </span><span style=\"color: #808000; text-decoration-color: #808000; font-weight: bold\">0.0</span><span style=\"color: #808000; text-decoration-color: #808000; font-weight: bold\">.</span><span style=\"color: #808000; text-decoration-color: #808000; font-weight: bold\">1</span>\n",
       "</pre>\n"
      ],
      "text/plain": [
       "\u001b[1;34m8\u001b[0m\u001b[1;34m\"\u001b[0m\u001b[1;34m\"\"\u001b[0m\u001b[1;34m\"\u001b[0m\u001b[1;34m8\u001b[0m\u001b[1;34m                                 \u001b[0m\n",
       "\u001b[1;34m8\u001b[0m\u001b[1;34m    \u001b[0m\u001b[1;34m8\u001b[0m\u001b[1;34m   eeeee eeeee eeeee eeeee eeeee \u001b[0m\n",
       "\u001b[1;34m8eeee8ee \u001b[0m\u001b[1;34m8\u001b[0m\u001b[1;34m   \u001b[0m\u001b[1;34m8\u001b[0m\u001b[1;34m \u001b[0m\u001b[1;34m8\u001b[0m\u001b[1;34m   \"   \u001b[0m\u001b[1;34m8\u001b[0m\u001b[1;34m   \u001b[0m\u001b[1;34m8\u001b[0m\u001b[1;34m  \u001b[0m\u001b[1;34m88\u001b[0m\u001b[1;34m \u001b[0m\u001b[1;34m8\u001b[0m\u001b[1;34m   \u001b[0m\u001b[1;34m8\u001b[0m\u001b[1;34m \u001b[0m\n",
       "\u001b[1;34m88\u001b[0m\u001b[1;34m     \u001b[0m\u001b[1;34m8\u001b[0m\u001b[1;34m 8eee8 8eeee   8e  \u001b[0m\u001b[1;34m8\u001b[0m\u001b[1;34m   \u001b[0m\u001b[1;34m8\u001b[0m\u001b[1;34m 8e  \u001b[0m\u001b[1;34m8\u001b[0m\u001b[1;34m \u001b[0m\n",
       "\u001b[1;34m88\u001b[0m\u001b[1;34m     \u001b[0m\u001b[1;34m8\u001b[0m\u001b[1;34m \u001b[0m\u001b[1;34m88\u001b[0m\u001b[1;34m  \u001b[0m\u001b[1;34m8\u001b[0m\u001b[1;34m    \u001b[0m\u001b[1;34m88\u001b[0m\u001b[1;34m   \u001b[0m\u001b[1;34m88\u001b[0m\u001b[1;34m  \u001b[0m\u001b[1;34m8\u001b[0m\u001b[1;34m   \u001b[0m\u001b[1;34m8\u001b[0m\u001b[1;34m \u001b[0m\u001b[1;34m88\u001b[0m\u001b[1;34m  \u001b[0m\u001b[1;34m8\u001b[0m\u001b[1;34m \u001b[0m\n",
       "\u001b[1;34m88eeeee8 \u001b[0m\u001b[1;34m88\u001b[0m\u001b[1;34m  \u001b[0m\u001b[1;34m8\u001b[0m\u001b[1;34m 8ee88   \u001b[0m\u001b[1;34m88\u001b[0m\u001b[1;34m  8eee8 \u001b[0m\u001b[1;34m88\u001b[0m\u001b[1;34m  \u001b[0m\u001b[1;34m8\u001b[0m\u001b[1;34m \u001b[0m\n",
       "\u001b[1;34m                                       \u001b[0m\n",
       "\n",
       "\u001b[1;33m> Live Coding tool, BuboBubo \u001b[0m\u001b[1;33m0.0\u001b[0m\u001b[1;33m.\u001b[0m\u001b[1;33m1\u001b[0m\n"
      ]
     },
     "metadata": {},
     "output_type": "display_data"
    },
    {
     "data": {
      "text/html": [
       "<pre style=\"white-space:pre;overflow-x:auto;line-height:normal;font-family:Menlo,'DejaVu Sans Mono',consolas,'Courier New',monospace\"><span style=\"color: #808000; text-decoration-color: #808000; font-weight: bold\">&gt; MIDI Output added: </span><span style=\"color: #800000; text-decoration-color: #800000; font-weight: bold\">midi</span><span style=\"color: #808000; text-decoration-color: #808000; font-weight: bold\"> </span>\n",
       "</pre>\n"
      ],
      "text/plain": [
       "\u001b[1;33m> MIDI Output added: \u001b[0m\u001b[1;31mmidi\u001b[0m\u001b[1;33m \u001b[0m\n"
      ]
     },
     "metadata": {},
     "output_type": "display_data"
    },
    {
     "data": {
      "text/html": [
       "<pre style=\"white-space:pre;overflow-x:auto;line-height:normal;font-family:Menlo,'DejaVu Sans Mono',consolas,'Courier New',monospace\"><span style=\"color: #808000; text-decoration-color: #808000; font-weight: bold\">&gt; MIDI Instrument added: </span><span style=\"color: #800000; text-decoration-color: #800000; font-weight: bold\">kabelsalat_instrument</span><span style=\"color: #808000; text-decoration-color: #808000; font-weight: bold\"> </span>\n",
       "</pre>\n"
      ],
      "text/plain": [
       "\u001b[1;33m> MIDI Instrument added: \u001b[0m\u001b[1;31mkabelsalat_instrument\u001b[0m\u001b[1;33m \u001b[0m\n"
      ]
     },
     "metadata": {},
     "output_type": "display_data"
    },
    {
     "data": {
      "text/html": [
       "<pre style=\"white-space:pre;overflow-x:auto;line-height:normal;font-family:Menlo,'DejaVu Sans Mono',consolas,'Courier New',monospace\"><span style=\"color: #808000; text-decoration-color: #808000; font-weight: bold\">&gt; OSC Port added: </span><span style=\"color: #800000; text-decoration-color: #800000; font-weight: bold\">superdirt</span><span style=\"color: #808000; text-decoration-color: #808000; font-weight: bold\"> </span>\n",
       "</pre>\n"
      ],
      "text/plain": [
       "\u001b[1;33m> OSC Port added: \u001b[0m\u001b[1;31msuperdirt\u001b[0m\u001b[1;33m \u001b[0m\n"
      ]
     },
     "metadata": {},
     "output_type": "display_data"
    }
   ],
   "source": [
    "# Run me to start!\n",
    "from shrimp import *"
   ]
  },
  {
   "cell_type": "markdown",
   "id": "61ffc541-ca7b-4f17-9de8-4d4e4e97acfe",
   "metadata": {},
   "source": [
    "## Introduction"
   ]
  },
  {
   "cell_type": "markdown",
   "id": "1adcb1a7-9534-43f6-964b-d65a07c6ade0",
   "metadata": {},
   "source": [
    "Time in `Shrimp` is based on the clock object. The `Clock` allows you to run code precisely in time and to synchronize with a musical metre. Whenever you write a timed function, it will likely be running at a certain frequency relative to the beat. You can query the current state of the clock by writing `clock`:"
   ]
  },
  {
   "cell_type": "code",
   "execution_count": 7,
   "id": "f873216c-1384-43a2-88e7-90ce5ceae359",
   "metadata": {},
   "outputs": [
    {
     "data": {
      "text/plain": [
       "Clock PLAY: 140.0 BPM, 174.149578 bars, 696.598312 beats, 0.598312 phase."
      ]
     },
     "execution_count": 7,
     "metadata": {},
     "output_type": "execute_result"
    }
   ],
   "source": [
    "clock"
   ]
  },
  {
   "cell_type": "markdown",
   "id": "7cbc981e-e344-4ef9-8270-995967b69bad",
   "metadata": {},
   "source": [
    "In the console, the current clock state (`PLAY` or `PAUSE`) will be printed along with some other information:\n",
    "- BPM (`float`): current beats per minute.\n",
    "- bar (`float`): current bar\n",
    "- beat (`float`): current beat\n",
    "- phase (`float`): current phase"
   ]
  },
  {
   "cell_type": "markdown",
   "id": "fa8e3e6f-4c7a-4818-a61a-3dd3e8d493e9",
   "metadata": {},
   "source": [
    "## Changing or querying the tempo"
   ]
  },
  {
   "cell_type": "markdown",
   "id": "a175260c-268d-4a8c-a417-102aad20787e",
   "metadata": {},
   "source": [
    "There are two basic commands to set or get the current tempo. Both of them use the `clock.tempo` attribute. They are defined as a getter and setter:"
   ]
  },
  {
   "cell_type": "code",
   "execution_count": 5,
   "id": "0a0318f8-5fc0-4cbd-8582-bc621658119b",
   "metadata": {},
   "outputs": [
    {
     "data": {
      "text/plain": [
       "135.000135000135"
      ]
     },
     "execution_count": 5,
     "metadata": {},
     "output_type": "execute_result"
    }
   ],
   "source": [
    "clock.tempo"
   ]
  },
  {
   "cell_type": "code",
   "execution_count": 6,
   "id": "121a47bd-e45e-43c4-b2c9-7fde205e0365",
   "metadata": {},
   "outputs": [],
   "source": [
    "clock.tempo = 140"
   ]
  },
  {
   "cell_type": "markdown",
   "id": "7f208d42-f978-4b25-ad62-61881af4b663",
   "metadata": {},
   "source": [
    "Whenever you update the tempo, your code will automatically speed up or speed down. You don't have to change anything to existing code. The same goes for note durations which are all computed relatively to current tempo."
   ]
  },
  {
   "cell_type": "markdown",
   "id": "ec74fd5f-1d7a-432b-ad31-42dd66553d2e",
   "metadata": {},
   "source": [
    "## Play/Pause"
   ]
  },
  {
   "cell_type": "markdown",
   "id": "7662e7df-6863-4534-af91-fc1f04f29b52",
   "metadata": {},
   "source": [
    "There are two main commands to manipulate clock playback:\n",
    "- `clock.play`: starts running the clock on the next bar.\n",
    "  - **this will also reset the bar/beat count!**\n",
    "- `clock.pause`: pause the execution."
   ]
  },
  {
   "cell_type": "code",
   "execution_count": 22,
   "id": "d3dc05bc-76e3-45d5-b86a-d924e845831c",
   "metadata": {},
   "outputs": [
    {
     "data": {
      "text/html": [
       "<pre style=\"white-space:pre;overflow-x:auto;line-height:normal;font-family:Menlo,'DejaVu Sans Mono',consolas,'Courier New',monospace\">Clock PLAY: <span style=\"color: #008080; text-decoration-color: #008080; font-weight: bold\">140.0</span> BPM, <span style=\"color: #008080; text-decoration-color: #008080; font-weight: bold\">296.15011275</span> bars, <span style=\"color: #008080; text-decoration-color: #008080; font-weight: bold\">1184.600451</span> beats, <span style=\"color: #008080; text-decoration-color: #008080; font-weight: bold\">0.600451</span> phase.\n",
       "</pre>\n"
      ],
      "text/plain": [
       "Clock PLAY: \u001b[1;36m140.0\u001b[0m BPM, \u001b[1;36m296.15011275\u001b[0m bars, \u001b[1;36m1184.600451\u001b[0m beats, \u001b[1;36m0.600451\u001b[0m phase.\n"
      ]
     },
     "metadata": {},
     "output_type": "display_data"
    }
   ],
   "source": [
    "clock.play()\n",
    "clock.add(lambda: print(clock), clock.next_beat)"
   ]
  },
  {
   "cell_type": "code",
   "execution_count": 20,
   "id": "5cd76986-f017-4849-87ca-9cf0b3bc6789",
   "metadata": {},
   "outputs": [],
   "source": [
    "clock.pause()\n",
    "# This doesn't work, we haven't reached next beat yet!\n",
    "clock.add(lambda: print(clock), clock.next_beat)"
   ]
  },
  {
   "cell_type": "markdown",
   "id": "9e7a8739-2b06-4414-9e04-ed65f0cae1f2",
   "metadata": {},
   "source": [
    "## Synchronisation"
   ]
  },
  {
   "cell_type": "markdown",
   "id": "ee72c009-0011-43ee-aa4e-0e6a39ed58da",
   "metadata": {},
   "source": [
    "`Shrimp` is automatically synchronized to any other software implementing the [Ableton Link](https://www.ableton.com/en/link/products/) protocol. This means that changing the tempo or pausing the clock will also affect other peers on the network! You will be sharing the same phase as other devices, which is super helpful to jam with anyone, especially those who are not using the same tools as you! Sometimes, you might want to turn off the synchronisation. If so, please run the following command:"
   ]
  },
  {
   "cell_type": "code",
   "execution_count": 2,
   "id": "f6299ec0-b786-4035-9107-cd1234f653ea",
   "metadata": {},
   "outputs": [],
   "source": [
    "clock.sync(True) # Synchronisation is now active\n",
    "clock.sync(False) # Disable synchronisation"
   ]
  }
 ],
 "metadata": {
  "kernelspec": {
   "display_name": "Python 3 (ipykernel)",
   "language": "python",
   "name": "python3"
  },
  "language_info": {
   "codemirror_mode": {
    "name": "ipython",
    "version": 3
   },
   "file_extension": ".py",
   "mimetype": "text/x-python",
   "name": "python",
   "nbconvert_exporter": "python",
   "pygments_lexer": "ipython3",
   "version": "3.12.4"
  }
 },
 "nbformat": 4,
 "nbformat_minor": 5
}
