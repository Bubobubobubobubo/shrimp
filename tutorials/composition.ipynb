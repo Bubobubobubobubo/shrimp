{
 "cells": [
  {
   "cell_type": "markdown",
   "metadata": {},
   "source": [
    "# Composition\n",
    "\n",
    "1) **TODO:** document the usage of `Shrimp` for composition (not real-time usage). \n",
    "2) **TODO:** document the usage of `Shrimp` for art installations."
   ]
  }
 ],
 "metadata": {
  "language_info": {
   "name": "python"
  }
 },
 "nbformat": 4,
 "nbformat_minor": 2
}
