{
 "cells": [
  {
   "cell_type": "markdown",
   "metadata": {},
   "source": [
    "# Welcome\n",
    "\n",
    "## What is `Shrimp`? \n",
    "\n",
    "`Shrimp` is a Python library and program that aims to facilitate live coding in Python. It is designed to be used in live coding performances, where the performer writes code that is executed in real-time (see [Algorave](https://algorave.com) and [TOPLAP](https://toplap.org)). `Shrimp` provides: \n",
    "- A way to synchronize the code execution with other software and hardware ([Ableton Link](https://www.ableton.com/en/link/), MIDI, OSC, etc.).\n",
    "- A simple way to run Python code in real-time, rhythmically and interactively.\n",
    "- Enough programming concepts to write time and event reactive code through some simple abstractions:\n",
    "   - _temporal recursion_: a way to reschedule code execution in the future with precision.\n",
    "   - _timing primitives_: a way to express time in a musical way (beats, bars, etc.).\n",
    "\n",
    "This library is a huge work in progress and is not ready for production. It is currently developed by [Bubo](https://bubobubobubobubo.github.io) and is released under the MIT license. You can learn more about my work on my [website](https://raphaelforment.fr) or on [livecoding.fr](https://livecoding.fr). This project is an offspring of previous work on [Sardine](https://sardine.raphaelforment.fr), [Topos](https://topos.live), etc.\n",
    "\n",
    "## How to use `Shrimp`?\n",
    "\n",
    "`Shrimp` is a Python module and a Python library. You can install it with `pip`:\n",
    "\n",
    "```bash\n",
    "python -m pip install shrimp\n",
    "```\n",
    "\n",
    "You can also install it from the source code:\n",
    "\n",
    "```bash\n",
    "git clone https://bubobubobubobubo/shrimp.git\n",
    "cd shrimp\n",
    "python -m pip install -e .\n",
    "```\n",
    "\n",
    "### As a Python module\n",
    "\n",
    "You can use `Shrimp` as a Python module. Here is a simple example:\n",
    "\n",
    "```python\n",
    "from shrimp import *\n",
    "\n",
    "def loop_please():\n",
    "    print(\"loop\")\n",
    "    clock.add(loop_please, clock.next_beat)\n",
    "\n",
    "clock.add(loop_please, clock.next_bar)\n",
    "```\n",
    "\n",
    "This code will print \"loop\" every bar, indefinitely (until you stop the program). See the `examples/` directory for more examples that use `Shrimp` as a Python module.\n",
    "\n",
    "### As a standalone program/REPL\n",
    "\n",
    "You can also use `Shrimp` as a standalone program. You can run it from the command line:\n",
    "\n",
    "```bash\n",
    "python -m shrimp\n",
    "```\n",
    "\n",
    "This will fire up a REPL where you can write Python code that will be executed in real-time. See the configuration tutorial to learn how to configure `Shrimp` to use it with your gear."
   ]
  }
 ],
 "metadata": {
  "kernelspec": {
   "display_name": "Python 3 (ipykernel)",
   "language": "python",
   "name": "python3"
  },
  "language_info": {
   "codemirror_mode": {
    "name": "ipython",
    "version": 3
   },
   "file_extension": ".py",
   "mimetype": "text/x-python",
   "name": "python",
   "nbconvert_exporter": "python",
   "pygments_lexer": "ipython3",
   "version": "3.12.4"
  }
 },
 "nbformat": 4,
 "nbformat_minor": 4
}
