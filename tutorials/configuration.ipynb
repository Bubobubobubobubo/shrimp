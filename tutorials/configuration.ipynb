{
 "cells": [
  {
   "cell_type": "markdown",
   "metadata": {},
   "source": [
    "# Baston Configuration"
   ]
  },
  {
   "cell_type": "markdown",
   "metadata": {},
   "source": [
    "`Baston` comes with a configuration file that allows you to customize the behavior of the environment. This file is located in special `config` directory and is named `config.json`. The location of this file is OS specific:\n",
    "- Linux: `~/.config/baston/config.json` \n",
    "- Windows: `%APPDATA%\\baston\\config.json`\n",
    "- MacOS: `~/Library/Application Support/baston/config.json`\n",
    "\n",
    "To open the configuration folder, run the following command in the `Baston` shell: `open_config_folder()`. This will open the folder in the default file manager."
   ]
  },
  {
   "cell_type": "markdown",
   "metadata": {},
   "source": [
    "## Configuration Options\n",
    "\n",
    "The configuration file is used for _declarative configuration_ of the environment. This means that you can specify the desired configuration options in the file and `Baston` will apply them on next launch. The configuration is structured in multiple sections, each of which corresponds to a specific aspect of the environment. The following sections are available:\n",
    "\n",
    "## Clock\n",
    "\n",
    "```json\n",
    "   \"clock\": {\n",
    "        \"default_tempo\": 120,\n",
    "        \"time_grain\": 0.001\n",
    "    },\n",
    "```\n",
    "- `default_tempo`: The default tempo of the clock in BPM.\n",
    "- `time_grain`: Time granularity (might impact precision). Lower values will increase precision but might also increase CPU usage.\n",
    "\n",
    "### MIDI\n",
    "\n",
    "```json\n",
    "\n",
    "\"midi\": \n",
    "    \"out_ports\": {\n",
    "       \"midi\": \"MIDI Bus 1\"\n",
    "    },\n",
    "    \"in_ports\": {\n",
    "        \"midi_in\": \"MIDI Bus 1\"\n",
    "    }\n",
    "}\n",
    "```\n",
    "\n",
    "Each port is defined by a key-value pair where the key is the name of the port and the value is the name of the port as it appears in the system. The `out_ports` section defines the output ports, while the `in_ports` section defines the input ports. The key names can be chosen freely, but they must be unique. This key will be used to instantiate a variable in the environment that can be used to send or receive MIDI messages.\n",
    "\n",
    "### OSC\n",
    "\n",
    "```json\n",
    "\"osc\": {\n",
    "    \"ports\": {\n",
    "        \"superdirt\": {\n",
    "            \"host\": \"127.0.0.1\",\n",
    "            \"port\": 57120,\n",
    "            \"name\": \"superdirt\"\n",
    "        }\n",
    "    }\n",
    "}\n",
    "```\n",
    "\n",
    "The `ports` section defines the OSC ports that can be used to send or receive OSC messages. Each port is defined by a key-value pair where the key is the name of the port and the value is an object with the following fields:\n",
    "- `host`: The IP address of the host where the OSC server is running.\n",
    "- `port`: The port number of the OSC server.\n",
    "- `name`: The name of the port as it appears in the system. This name is only used to differentiate between ports.\n",
    "\n",
    "As is the case for MIDI ports, the key names can be chosen freely, but they must be unique. This key will be used to instantiate a variable in the environment that can be used to send or receive OSC messages.\n",
    "\n",
    "### Editor\n",
    "\n",
    "```json\n",
    "\"editor\": {\n",
    "    \"default_shell\": \"python\",\n",
    "    \"vim_mode\": false\n",
    "}\n",
    "```\n",
    "\n",
    "`Baston` uses an embedded extended features REPL (Read-Eval-Print Loop) that allows you to interact with the environment. The `editor` section allows you to configure the behavior of the editor. The following options are available:\n",
    "- `default_shell`: The default shell to use when executing code.\n",
    "   - `python`: Use the default CPython shell. Not recommended for live coding.\n",
    "   - `ptpython`: Use the `ptpython` shell. This is a more advanced shell with features like syntax highlighting, autocompletion, command history and more. This is the recommended shell for live coding with `Baston`.\n",
    "- `vim_mode`: Enable or disable Vim mode in the editor. When enabled, the editor will use Vim keybindings for navigation and editing. When disabled, the editor will use the default keybindings. This option applies only to the `ptpython` shell."
   ]
  }
 ],
 "metadata": {
  "language_info": {
   "name": "python"
  }
 },
 "nbformat": 4,
 "nbformat_minor": 2
}
