{
 "cells": [
  {
   "cell_type": "markdown",
   "metadata": {},
   "source": [
    "# MIDI Instruments"
   ]
  },
  {
   "cell_type": "markdown",
   "metadata": {},
   "source": [
    "MIDI instruments are special methods that can schedule MIDI notes and MIDI control changes concurrently. They are designed to allow you to store the settings of a given synthesizer in your configuration so you never have to configure it again. They are useful to create complex MIDI sequences that are difficult to create by combining and managing the `note` and `control` methods at the same time."
   ]
  },
  {
   "cell_type": "markdown",
   "metadata": {},
   "source": [
    "## Defining a MIDI Instrument"
   ]
  },
  {
   "cell_type": "markdown",
   "metadata": {},
   "source": [
    "To define a MIDI instrument, you will need to alter your `config.json` file to include a new key for your specific instrument. Check the example above that implements bindings for controlling synthesizers defined with [KabelSalat](https://felixroos.github.io/kabelsalat/). The `control_map` key is used to map the control names to the MIDI control change numbers. MIDI Instruments are associated with a specific MIDI port.\n",
    "\n",
    "```json\n",
    "    \"midi\": {\n",
    "        \"out_ports\": [\n",
    "            {\n",
    "                \"midi\": \"MIDI Bus 1\",\n",
    "                \"instruments\": [\n",
    "                    {\n",
    "                        \"name\": \"kabelsalat_instrument\",\n",
    "                        \"channel\": 12,\n",
    "                        \"control_map\": {\n",
    "                            \"cutoff\": 20,\n",
    "                            \"resonance\": 21,\n",
    "                            \"delay\": 22\n",
    "                        }\n",
    "                    }\n",
    "                ]\n",
    "            }\n",
    "        ],\n",
    "        \"in_ports\": {\n",
    "            \"midi_in\": false\n",
    "        }\n",
    "    },"
   ]
  },
  {
   "cell_type": "markdown",
   "metadata": {},
   "source": []
  },
  {
   "cell_type": "markdown",
   "metadata": {},
   "source": [
    "## Using a MIDI Instrument"
   ]
  },
  {
   "cell_type": "markdown",
   "metadata": {},
   "source": [
    "TODO"
   ]
  },
  {
   "cell_type": "markdown",
   "metadata": {},
   "source": []
  }
 ],
 "metadata": {
  "language_info": {
   "name": "python"
  }
 },
 "nbformat": 4,
 "nbformat_minor": 2
}
