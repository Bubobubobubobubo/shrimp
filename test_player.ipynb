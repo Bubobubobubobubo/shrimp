{
 "cells": [
  {
   "cell_type": "code",
   "execution_count": 1,
   "metadata": {},
   "outputs": [
    {
     "name": "stderr",
     "output_type": "stream",
     "text": [
      "Output device: Haut-parleurs MacBook Pro (44100Hz, buffer size 256 samples, 2 channels)\n"
     ]
    }
   ],
   "source": [
    "from shrimp import *\n",
    "\n",
    "clock.delay = -5"
   ]
  },
  {
   "cell_type": "code",
   "execution_count": 22,
   "metadata": {},
   "outputs": [],
   "source": [
    "p1 >> note(note=Pseq(48, 50, 55, (48, 55, 58)).mirror(), p=Peuclid(5, 8) / 2, vel=0.5)"
   ]
  },
  {
   "cell_type": "code",
   "execution_count": 5,
   "metadata": {},
   "outputs": [],
   "source": [
    "p1 >> note(\n",
    "    note=Pnote(Pseq(0, 10, 12), 3, 4, 5, root=48),\n",
    "    p=Peuclid(9, 16) / 2,\n",
    "    len=2,\n",
    ")"
   ]
  },
  {
   "cell_type": "code",
   "execution_count": 19,
   "metadata": {},
   "outputs": [],
   "source": [
    "silence()"
   ]
  }
 ],
 "metadata": {
  "kernelspec": {
   "display_name": "Python 3",
   "language": "python",
   "name": "python3"
  },
  "language_info": {
   "codemirror_mode": {
    "name": "ipython",
    "version": 3
   },
   "file_extension": ".py",
   "mimetype": "text/x-python",
   "name": "python",
   "nbconvert_exporter": "python",
   "pygments_lexer": "ipython3",
   "version": "3.12.4"
  }
 },
 "nbformat": 4,
 "nbformat_minor": 2
}
