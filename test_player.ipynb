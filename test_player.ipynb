{
 "cells": [
  {
   "cell_type": "code",
   "execution_count": 1,
   "metadata": {},
   "outputs": [
    {
     "name": "stderr",
     "output_type": "stream",
     "text": [
      "Output device: Haut-parleurs MacBook Pro (44100Hz, buffer size 256 samples, 2 channels)\n"
     ]
    },
    {
     "data": {
      "text/html": [
       "<pre style=\"white-space:pre;overflow-x:auto;line-height:normal;font-family:Menlo,'DejaVu Sans Mono',consolas,'Courier New',monospace\"><span style=\"color: #000080; text-decoration-color: #000080; font-weight: bold\">.d8888. db   db d8888b. d888888b .88b  d88. d8888b. </span>\n",
       "<span style=\"color: #000080; text-decoration-color: #000080; font-weight: bold\">88</span><span style=\"color: #000080; text-decoration-color: #000080; font-weight: bold\">'  YP </span><span style=\"color: #000080; text-decoration-color: #000080; font-weight: bold\">88</span><span style=\"color: #000080; text-decoration-color: #000080; font-weight: bold\">   </span><span style=\"color: #000080; text-decoration-color: #000080; font-weight: bold\">88</span><span style=\"color: #000080; text-decoration-color: #000080; font-weight: bold\"> </span><span style=\"color: #000080; text-decoration-color: #000080; font-weight: bold\">88</span><span style=\"color: #000080; text-decoration-color: #000080; font-weight: bold\">  `8D   `</span><span style=\"color: #000080; text-decoration-color: #000080; font-weight: bold\">88</span><span style=\"color: #000080; text-decoration-color: #000080; font-weight: bold\">'   </span><span style=\"color: #000080; text-decoration-color: #000080; font-weight: bold\">88</span><span style=\"color: #000080; text-decoration-color: #000080; font-weight: bold\">'YbdP`</span><span style=\"color: #000080; text-decoration-color: #000080; font-weight: bold\">88</span><span style=\"color: #000080; text-decoration-color: #000080; font-weight: bold\"> </span><span style=\"color: #000080; text-decoration-color: #000080; font-weight: bold\">88</span><span style=\"color: #000080; text-decoration-color: #000080; font-weight: bold\">  `8D </span>\n",
       "<span style=\"color: #000080; text-decoration-color: #000080; font-weight: bold\">`8bo.   88ooo88 88oobY'    </span><span style=\"color: #000080; text-decoration-color: #000080; font-weight: bold\">88</span><span style=\"color: #000080; text-decoration-color: #000080; font-weight: bold\">    </span><span style=\"color: #000080; text-decoration-color: #000080; font-weight: bold\">88</span><span style=\"color: #000080; text-decoration-color: #000080; font-weight: bold\">  </span><span style=\"color: #000080; text-decoration-color: #000080; font-weight: bold\">88</span><span style=\"color: #000080; text-decoration-color: #000080; font-weight: bold\">  </span><span style=\"color: #000080; text-decoration-color: #000080; font-weight: bold\">88</span><span style=\"color: #000080; text-decoration-color: #000080; font-weight: bold\"> 88oodD' </span>\n",
       "<span style=\"color: #000080; text-decoration-color: #000080; font-weight: bold\">  `Y8b. </span><span style=\"color: #000080; text-decoration-color: #000080; font-weight: bold\">88</span><span style=\"color: #000080; text-decoration-color: #000080; font-weight: bold\">~~~</span><span style=\"color: #000080; text-decoration-color: #000080; font-weight: bold\">88</span><span style=\"color: #000080; text-decoration-color: #000080; font-weight: bold\"> </span><span style=\"color: #000080; text-decoration-color: #000080; font-weight: bold\">88</span><span style=\"color: #000080; text-decoration-color: #000080; font-weight: bold\">`8b      </span><span style=\"color: #000080; text-decoration-color: #000080; font-weight: bold\">88</span><span style=\"color: #000080; text-decoration-color: #000080; font-weight: bold\">    </span><span style=\"color: #000080; text-decoration-color: #000080; font-weight: bold\">88</span><span style=\"color: #000080; text-decoration-color: #000080; font-weight: bold\">  </span><span style=\"color: #000080; text-decoration-color: #000080; font-weight: bold\">88</span><span style=\"color: #000080; text-decoration-color: #000080; font-weight: bold\">  </span><span style=\"color: #000080; text-decoration-color: #000080; font-weight: bold\">88</span><span style=\"color: #000080; text-decoration-color: #000080; font-weight: bold\"> </span><span style=\"color: #000080; text-decoration-color: #000080; font-weight: bold\">88</span><span style=\"color: #000080; text-decoration-color: #000080; font-weight: bold\">~~~   </span>\n",
       "<span style=\"color: #000080; text-decoration-color: #000080; font-weight: bold\">db   8D </span><span style=\"color: #000080; text-decoration-color: #000080; font-weight: bold\">88</span><span style=\"color: #000080; text-decoration-color: #000080; font-weight: bold\">   </span><span style=\"color: #000080; text-decoration-color: #000080; font-weight: bold\">88</span><span style=\"color: #000080; text-decoration-color: #000080; font-weight: bold\"> </span><span style=\"color: #000080; text-decoration-color: #000080; font-weight: bold\">88</span><span style=\"color: #000080; text-decoration-color: #000080; font-weight: bold\"> `</span><span style=\"color: #000080; text-decoration-color: #000080; font-weight: bold\">88</span><span style=\"color: #000080; text-decoration-color: #000080; font-weight: bold\">.   .</span><span style=\"color: #000080; text-decoration-color: #000080; font-weight: bold\">88</span><span style=\"color: #000080; text-decoration-color: #000080; font-weight: bold\">.   </span><span style=\"color: #000080; text-decoration-color: #000080; font-weight: bold\">88</span><span style=\"color: #000080; text-decoration-color: #000080; font-weight: bold\">  </span><span style=\"color: #000080; text-decoration-color: #000080; font-weight: bold\">88</span><span style=\"color: #000080; text-decoration-color: #000080; font-weight: bold\">  </span><span style=\"color: #000080; text-decoration-color: #000080; font-weight: bold\">88</span><span style=\"color: #000080; text-decoration-color: #000080; font-weight: bold\"> </span><span style=\"color: #000080; text-decoration-color: #000080; font-weight: bold\">88</span><span style=\"color: #000080; text-decoration-color: #000080; font-weight: bold\">      </span>\n",
       "<span style=\"color: #000080; text-decoration-color: #000080; font-weight: bold\">`8888Y' YP   YP </span><span style=\"color: #000080; text-decoration-color: #000080; font-weight: bold\">88</span><span style=\"color: #000080; text-decoration-color: #000080; font-weight: bold\">   YD Y888888P YP  YP  YP </span><span style=\"color: #000080; text-decoration-color: #000080; font-weight: bold\">88</span><span style=\"color: #000080; text-decoration-color: #000080; font-weight: bold\">      </span>\n",
       "<span style=\"color: #000080; text-decoration-color: #000080; font-weight: bold\">                                                    </span>\n",
       "<span style=\"color: #000080; text-decoration-color: #000080; font-weight: bold\">                                                    </span>\n",
       "\n",
       "<span style=\"color: #808000; text-decoration-color: #808000; font-weight: bold\">&gt; Live Coding tool, BuboBubo </span><span style=\"color: #808000; text-decoration-color: #808000; font-weight: bold\">0.0</span><span style=\"color: #808000; text-decoration-color: #808000; font-weight: bold\">.</span><span style=\"color: #808000; text-decoration-color: #808000; font-weight: bold\">1</span>\n",
       "</pre>\n"
      ],
      "text/plain": [
       "\u001b[1;34m.d8888. db   db d8888b. d888888b .88b  d88. d8888b. \u001b[0m\n",
       "\u001b[1;34m88\u001b[0m\u001b[1;34m'  YP \u001b[0m\u001b[1;34m88\u001b[0m\u001b[1;34m   \u001b[0m\u001b[1;34m88\u001b[0m\u001b[1;34m \u001b[0m\u001b[1;34m88\u001b[0m\u001b[1;34m  `8D   `\u001b[0m\u001b[1;34m88\u001b[0m\u001b[1;34m'   \u001b[0m\u001b[1;34m88\u001b[0m\u001b[1;34m'YbdP`\u001b[0m\u001b[1;34m88\u001b[0m\u001b[1;34m \u001b[0m\u001b[1;34m88\u001b[0m\u001b[1;34m  `8D \u001b[0m\n",
       "\u001b[1;34m`8bo.   88ooo88 88oobY'    \u001b[0m\u001b[1;34m88\u001b[0m\u001b[1;34m    \u001b[0m\u001b[1;34m88\u001b[0m\u001b[1;34m  \u001b[0m\u001b[1;34m88\u001b[0m\u001b[1;34m  \u001b[0m\u001b[1;34m88\u001b[0m\u001b[1;34m 88oodD' \u001b[0m\n",
       "\u001b[1;34m  `Y8b. \u001b[0m\u001b[1;34m88\u001b[0m\u001b[1;34m~~~\u001b[0m\u001b[1;34m88\u001b[0m\u001b[1;34m \u001b[0m\u001b[1;34m88\u001b[0m\u001b[1;34m`8b      \u001b[0m\u001b[1;34m88\u001b[0m\u001b[1;34m    \u001b[0m\u001b[1;34m88\u001b[0m\u001b[1;34m  \u001b[0m\u001b[1;34m88\u001b[0m\u001b[1;34m  \u001b[0m\u001b[1;34m88\u001b[0m\u001b[1;34m \u001b[0m\u001b[1;34m88\u001b[0m\u001b[1;34m~~~   \u001b[0m\n",
       "\u001b[1;34mdb   8D \u001b[0m\u001b[1;34m88\u001b[0m\u001b[1;34m   \u001b[0m\u001b[1;34m88\u001b[0m\u001b[1;34m \u001b[0m\u001b[1;34m88\u001b[0m\u001b[1;34m `\u001b[0m\u001b[1;34m88\u001b[0m\u001b[1;34m.   .\u001b[0m\u001b[1;34m88\u001b[0m\u001b[1;34m.   \u001b[0m\u001b[1;34m88\u001b[0m\u001b[1;34m  \u001b[0m\u001b[1;34m88\u001b[0m\u001b[1;34m  \u001b[0m\u001b[1;34m88\u001b[0m\u001b[1;34m \u001b[0m\u001b[1;34m88\u001b[0m\u001b[1;34m      \u001b[0m\n",
       "\u001b[1;34m`8888Y' YP   YP \u001b[0m\u001b[1;34m88\u001b[0m\u001b[1;34m   YD Y888888P YP  YP  YP \u001b[0m\u001b[1;34m88\u001b[0m\u001b[1;34m      \u001b[0m\n",
       "\u001b[1;34m                                                    \u001b[0m\n",
       "\u001b[1;34m                                                    \u001b[0m\n",
       "\n",
       "\u001b[1;33m> Live Coding tool, BuboBubo \u001b[0m\u001b[1;33m0.0\u001b[0m\u001b[1;33m.\u001b[0m\u001b[1;33m1\u001b[0m\n"
      ]
     },
     "metadata": {},
     "output_type": "display_data"
    },
    {
     "data": {
      "text/html": [
       "<pre style=\"white-space:pre;overflow-x:auto;line-height:normal;font-family:Menlo,'DejaVu Sans Mono',consolas,'Courier New',monospace\"><span style=\"color: #808000; text-decoration-color: #808000; font-weight: bold\">&gt; MIDI Output </span><span style=\"color: #800000; text-decoration-color: #800000; font-weight: bold\">midi</span><span style=\"color: #808000; text-decoration-color: #808000; font-weight: bold\"> added for port: </span><span style=\"color: #800000; text-decoration-color: #800000; font-weight: bold\">shrimp</span><span style=\"color: #808000; text-decoration-color: #808000; font-weight: bold\"> </span>\n",
       "</pre>\n"
      ],
      "text/plain": [
       "\u001b[1;33m> MIDI Output \u001b[0m\u001b[1;31mmidi\u001b[0m\u001b[1;33m added for port: \u001b[0m\u001b[1;31mshrimp\u001b[0m\u001b[1;33m \u001b[0m\n"
      ]
     },
     "metadata": {},
     "output_type": "display_data"
    },
    {
     "data": {
      "text/html": [
       "<pre style=\"white-space:pre;overflow-x:auto;line-height:normal;font-family:Menlo,'DejaVu Sans Mono',consolas,'Courier New',monospace\"><span style=\"color: #808000; text-decoration-color: #808000; font-weight: bold\">&gt; MIDI Output </span><span style=\"color: #800000; text-decoration-color: #800000; font-weight: bold\">midi_in</span><span style=\"color: #808000; text-decoration-color: #808000; font-weight: bold\"> added for port: </span><span style=\"color: #800000; text-decoration-color: #800000; font-weight: bold\">shrimp</span><span style=\"color: #808000; text-decoration-color: #808000; font-weight: bold\"> </span>\n",
       "</pre>\n"
      ],
      "text/plain": [
       "\u001b[1;33m> MIDI Output \u001b[0m\u001b[1;31mmidi_in\u001b[0m\u001b[1;33m added for port: \u001b[0m\u001b[1;31mshrimp\u001b[0m\u001b[1;33m \u001b[0m\n"
      ]
     },
     "metadata": {},
     "output_type": "display_data"
    },
    {
     "data": {
      "text/html": [
       "<pre style=\"white-space:pre;overflow-x:auto;line-height:normal;font-family:Menlo,'DejaVu Sans Mono',consolas,'Courier New',monospace\"><span style=\"color: #808000; text-decoration-color: #808000; font-weight: bold\">&gt; OSC Port added: </span><span style=\"color: #800000; text-decoration-color: #800000; font-weight: bold\">superdirt</span><span style=\"color: #808000; text-decoration-color: #808000; font-weight: bold\"> </span>\n",
       "</pre>\n"
      ],
      "text/plain": [
       "\u001b[1;33m> OSC Port added: \u001b[0m\u001b[1;31msuperdirt\u001b[0m\u001b[1;33m \u001b[0m\n"
      ]
     },
     "metadata": {},
     "output_type": "display_data"
    }
   ],
   "source": [
    "from shrimp import *\n",
    "clock.delay = -9"
   ]
  },
  {
   "cell_type": "code",
   "execution_count": 4,
   "metadata": {},
   "outputs": [],
   "source": [
    "p1 >> note(note=Pseq(53, Pchoose(62, 65, 69)), p=1/2, quant=4)\n",
    "p2 >> note(note=Pseq(38), p=2)\n",
    "p3 >> note(note=50+24, p=4)"
   ]
  },
  {
   "cell_type": "code",
   "execution_count": 18,
   "metadata": {},
   "outputs": [],
   "source": [
    "p1 >> None"
   ]
  }
 ],
 "metadata": {
  "kernelspec": {
   "display_name": "Python 3",
   "language": "python",
   "name": "python3"
  },
  "language_info": {
   "codemirror_mode": {
    "name": "ipython",
    "version": 3
   },
   "file_extension": ".py",
   "mimetype": "text/x-python",
   "name": "python",
   "nbconvert_exporter": "python",
   "pygments_lexer": "ipython3",
   "version": "3.12.4"
  }
 },
 "nbformat": 4,
 "nbformat_minor": 2
}
