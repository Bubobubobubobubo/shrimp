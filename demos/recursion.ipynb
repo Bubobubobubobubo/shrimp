{
 "cells": [
  {
   "cell_type": "markdown",
   "metadata": {},
   "source": [
    "# Temporal Recursive Functions"
   ]
  },
  {
   "cell_type": "code",
   "execution_count": 1,
   "metadata": {},
   "outputs": [
    {
     "data": {
      "text/html": [
       "<pre style=\"white-space:pre;overflow-x:auto;line-height:normal;font-family:Menlo,'DejaVu Sans Mono',consolas,'Courier New',monospace\">\n",
       "<span style=\"color: #000080; text-decoration-color: #000080; font-weight: bold\">    __               __            </span>\n",
       "<span style=\"color: #000080; text-decoration-color: #000080; font-weight: bold\">   / /_  ____ ______/ /_____  ____ </span>\n",
       "<span style=\"color: #000080; text-decoration-color: #000080; font-weight: bold\">  / __ \\/ __ `/ ___/ __/ __ \\/ __ \\</span>\n",
       "<span style=\"color: #000080; text-decoration-color: #000080; font-weight: bold\"> / /_/ / /_/ (__  ) /_/ /_/ / / / /</span>\n",
       "<span style=\"color: #000080; text-decoration-color: #000080; font-weight: bold\">/_.___/\\__,_/____/\\__/\\____/_/ /_/ </span>\n",
       "\n",
       "<span style=\"color: #808000; text-decoration-color: #808000; font-weight: bold\">&gt; Live Coding tool, BuboBubo </span><span style=\"color: #808000; text-decoration-color: #808000; font-weight: bold\">0.0</span><span style=\"color: #808000; text-decoration-color: #808000; font-weight: bold\">.</span><span style=\"color: #808000; text-decoration-color: #808000; font-weight: bold\">1</span>\n",
       "\n",
       "</pre>\n"
      ],
      "text/plain": [
       "\n",
       "\u001b[1;34m    __               __            \u001b[0m\n",
       "\u001b[1;34m   \u001b[0m\u001b[1;34m/\u001b[0m\u001b[1;34m \u001b[0m\u001b[1;34m/\u001b[0m\u001b[1;34m_\u001b[0m\u001b[1;34m  ____ ______/ \u001b[0m\u001b[1;34m/\u001b[0m\u001b[1;34m_____\u001b[0m\u001b[1;34m  ____ \u001b[0m\n",
       "\u001b[1;34m  \u001b[0m\u001b[1;34m/\u001b[0m\u001b[1;34m __ \\\u001b[0m\u001b[1;34m/\u001b[0m\u001b[1;34m __ `\u001b[0m\u001b[1;34m/\u001b[0m\u001b[1;34m ___/ __/ __ \\\u001b[0m\u001b[1;34m/\u001b[0m\u001b[1;34m __ \\\u001b[0m\n",
       "\u001b[1;34m \u001b[0m\u001b[1;34m/\u001b[0m\u001b[1;34m \u001b[0m\u001b[1;34m/_/\u001b[0m\u001b[1;34m \u001b[0m\u001b[1;34m/\u001b[0m\u001b[1;34m \u001b[0m\u001b[1;34m/_/\u001b[0m\u001b[1;34m \u001b[0m\u001b[1;34m(\u001b[0m\u001b[1;34m__  \u001b[0m\u001b[1;34m)\u001b[0m\u001b[1;34m \u001b[0m\u001b[1;34m/_/\u001b[0m\u001b[1;34m \u001b[0m\u001b[1;34m/_/\u001b[0m\u001b[1;34m \u001b[0m\u001b[1;34m/\u001b[0m\u001b[1;34m \u001b[0m\u001b[1;34m/\u001b[0m\u001b[1;34m \u001b[0m\u001b[1;34m/\u001b[0m\u001b[1;34m \u001b[0m\u001b[1;34m/\u001b[0m\n",
       "\u001b[1;34m/_.___/\u001b[0m\u001b[1;34m\\__,_/____/\\__/\\____/_/ \u001b[0m\u001b[1;34m/_/\u001b[0m\u001b[1;34m \u001b[0m\n",
       "\n",
       "\u001b[1;33m> Live Coding tool, BuboBubo \u001b[0m\u001b[1;33m0.0\u001b[0m\u001b[1;33m.\u001b[0m\u001b[1;33m1\u001b[0m\n",
       "\n"
      ]
     },
     "metadata": {},
     "output_type": "display_data"
    },
    {
     "name": "stdout",
     "output_type": "stream",
     "text": [
      "Count: 0\n",
      "Count: 1\n",
      "Count: 2\n",
      "Count: 3\n",
      "Count: 4\n",
      "Count: 5\n",
      "Count: 6\n",
      "Count: 7\n",
      "Count: 8\n",
      "Count: 9\n",
      "Count: 10\n"
     ]
    }
   ],
   "source": [
    "from baston import *"
   ]
  },
  {
   "cell_type": "markdown",
   "metadata": {},
   "source": [
    "## Basic principle"
   ]
  },
  {
   "cell_type": "markdown",
   "metadata": {},
   "source": [
    "`Baston` uses temporal recursive functions as a primitive. A function is called temporal recursive if the function calls itself back in the future in its own definition. To do so, we use the `clock.add(func: Callable, time: int|float)` method. This method schedules the function to be called back in the future. Arguments can be passed to the function using the `args` and `kwargs` parameters of the `add` method."
   ]
  },
  {
   "cell_type": "code",
   "execution_count": 2,
   "metadata": {},
   "outputs": [],
   "source": [
    "def recursive_function(count: int = 0):\n",
    "    print(f\"Count: {count}\")\n",
    "    if count < 10:\n",
    "        clock.add(recursive_function, clock.beat + 1, count=count + 1)"
   ]
  },
  {
   "cell_type": "markdown",
   "metadata": {},
   "source": [
    "This is just the definition of a simple counter using temporal recursion. To actually start the recursion, we need to call the `clock.add()` method from outside the function scope."
   ]
  },
  {
   "cell_type": "code",
   "execution_count": 3,
   "metadata": {},
   "outputs": [],
   "source": [
    "clock.add(recursive_function, clock.next_bar())\n",
    "clock.play()"
   ]
  },
  {
   "cell_type": "markdown",
   "metadata": {},
   "source": [
    "This function will count up to 10, scheduling itself to be called for every beat since the beginning of the next bar (from current execution time). To stop recursion, you can just remove the recursive function call from the function. All functions are dynamic and can be freely reevaluated while they are running. Any update will take place on the next function call."
   ]
  },
  {
   "cell_type": "markdown",
   "metadata": {},
   "source": [
    "## Helper functions and decorators"
   ]
  },
  {
   "cell_type": "markdown",
   "metadata": {},
   "source": [
    "The `clock` class can be used to manually schedule functions. The class comes with a few helper functions and decorators to make the process easier:\n",
    "\n",
    "- `clock.add(func: Callable, time: int|float, args: Tuple = (), kwargs: Dict = {})` schedules a function to be called in the future.\n",
    "- `clock.remove(func: Callable)` removes a function from the scheduler.\n",
    "- `clock.clear()` removes all functions from the scheduler."
   ]
  },
  {
   "cell_type": "code",
   "execution_count": null,
   "metadata": {},
   "outputs": [],
   "source": [
    "def dummy_function():\n",
    "    print(\"Dummy function\")\n",
    "    clock.add(dummy_function, clock.next_bar())\n",
    "\n",
    "clock.add(dummy_function, clock.next_bar())\n",
    "\n",
    "# ... wait for a moment ...\n",
    "\n",
    "clock.remove(dummy_function)\n",
    "\n",
    "# ... alternatively ...\n",
    "\n",
    "clock.clear()"
   ]
  },
  {
   "cell_type": "markdown",
   "metadata": {},
   "source": [
    "You can also use a special decorator called `@fight` to automatically add a function to the scheduler on code evaluation. This is useful when you want to play a function as soon as it is defined."
   ]
  },
  {
   "cell_type": "code",
   "execution_count": null,
   "metadata": {},
   "outputs": [],
   "source": [
    "@fight()\n",
    "def dummy_function():\n",
    "    print(\"Dummy function\")\n",
    "\n",
    "clock.clear()"
   ]
  },
  {
   "cell_type": "markdown",
   "metadata": {},
   "source": [
    "Note that the `@fight` decorator takes an optional `quant` argument that specifies the time in beats to wait before the function is called. The default value is 'bar'. There are multiple possible argument values:\n",
    "- `'bar'`: the function is called at the beginning of the next bar.\n",
    "- `'beat'`: the function is called at the beginning of the next beat.\n",
    "- `'now'`: the function is called immediately.\n",
    "- `int|float`: the function is called after the specified number of beats."
   ]
  }
 ],
 "metadata": {
  "kernelspec": {
   "display_name": "Python 3",
   "language": "python",
   "name": "python3"
  },
  "language_info": {
   "codemirror_mode": {
    "name": "ipython",
    "version": 3
   },
   "file_extension": ".py",
   "mimetype": "text/x-python",
   "name": "python",
   "nbconvert_exporter": "python",
   "pygments_lexer": "ipython3",
   "version": "3.12.4"
  }
 },
 "nbformat": 4,
 "nbformat_minor": 2
}
