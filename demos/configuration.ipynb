{
 "cells": [
  {
   "cell_type": "markdown",
   "metadata": {},
   "source": [
    "# Baston Configuration"
   ]
  },
  {
   "cell_type": "markdown",
   "metadata": {},
   "source": [
    "`Baston` comes with a configuration file that allows you to customize the behavior of the environment. This file is located in special `config` directory and is named `config.json`. The location of this file is OS specific:\n",
    "- Linux: `~/.config/baston/config.json` \n",
    "- Windows: `%APPDATA%\\baston\\config.json`\n",
    "- MacOS: `~/Library/Application Support/baston/config.json`\n",
    "\n",
    "To open the configuration folder, run the following command in the `Baston` shell: `open_config_folder()`. This will open the folder in the default file manager."
   ]
  },
  {
   "cell_type": "markdown",
   "metadata": {},
   "source": [
    "## Configuration Options\n",
    "\n",
    "### `tempo`\n",
    "\n",
    "The `tempo` option allows you to specify the tempo of the metronome at session start. The default value is `120`. The tempo is expressed in beats per minute.\n",
    "\n",
    "### `python_shell`\n",
    "\n",
    "This option allows you to specify the Python shell that will be used to run the code. The default value is `python`. There are two possible values for this option:\n",
    "- `python`: the default CPython Python shell.\n",
    "- `ptpython`: ptpython is an advanced Python REPL built on top of the Python `prompt_toolkit` library. It offers many features such as syntax highlighting, auto-completion, history, different entry modes and more. It can be useful to use `Baston` without any specific text editor!\n",
    "\n",
    "### `midi_outport`, `midi_inport`\n",
    "\n",
    "These options allow you to specify the MIDI ports that will be opened by default. The default values for these fields is `disabled`. If you want to use MIDI input/output, you need to specify the names of the MIDI ports that you want to use. You can get the list of available MIDI ports by running the following command from the `Baston` shell: `list_midi_ports()`."
   ]
  }
 ],
 "metadata": {
  "language_info": {
   "name": "python"
  }
 },
 "nbformat": 4,
 "nbformat_minor": 2
}
