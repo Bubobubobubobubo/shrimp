{
 "cells": [
  {
   "cell_type": "markdown",
   "metadata": {},
   "source": [
    "# Welcome\n",
    "\n",
    "You can import `Baston` as a library in your Python code. This is a simple example of how to use it. We will tour through the basic functionalities."
   ]
  },
  {
   "cell_type": "code",
   "execution_count": 1,
   "metadata": {},
   "outputs": [
    {
     "data": {
      "text/html": [
       "<pre style=\"white-space:pre;overflow-x:auto;line-height:normal;font-family:Menlo,'DejaVu Sans Mono',consolas,'Courier New',monospace\">\n",
       "<span style=\"color: #000080; text-decoration-color: #000080; font-weight: bold\">    __               __            </span>\n",
       "<span style=\"color: #000080; text-decoration-color: #000080; font-weight: bold\">   / /_  ____ ______/ /_____  ____ </span>\n",
       "<span style=\"color: #000080; text-decoration-color: #000080; font-weight: bold\">  / __ \\/ __ `/ ___/ __/ __ \\/ __ \\</span>\n",
       "<span style=\"color: #000080; text-decoration-color: #000080; font-weight: bold\"> / /_/ / /_/ (__  ) /_/ /_/ / / / /</span>\n",
       "<span style=\"color: #000080; text-decoration-color: #000080; font-weight: bold\">/_.___/\\__,_/____/\\__/\\____/_/ /_/ </span>\n",
       "\n",
       "<span style=\"color: #808000; text-decoration-color: #808000; font-weight: bold\">&gt; Live Coding tool, BuboBubo </span><span style=\"color: #808000; text-decoration-color: #808000; font-weight: bold\">0.0</span><span style=\"color: #808000; text-decoration-color: #808000; font-weight: bold\">.</span><span style=\"color: #808000; text-decoration-color: #808000; font-weight: bold\">1</span>\n",
       "\n",
       "</pre>\n"
      ],
      "text/plain": [
       "\n",
       "\u001b[1;34m    __               __            \u001b[0m\n",
       "\u001b[1;34m   \u001b[0m\u001b[1;34m/\u001b[0m\u001b[1;34m \u001b[0m\u001b[1;34m/\u001b[0m\u001b[1;34m_\u001b[0m\u001b[1;34m  ____ ______/ \u001b[0m\u001b[1;34m/\u001b[0m\u001b[1;34m_____\u001b[0m\u001b[1;34m  ____ \u001b[0m\n",
       "\u001b[1;34m  \u001b[0m\u001b[1;34m/\u001b[0m\u001b[1;34m __ \\\u001b[0m\u001b[1;34m/\u001b[0m\u001b[1;34m __ `\u001b[0m\u001b[1;34m/\u001b[0m\u001b[1;34m ___/ __/ __ \\\u001b[0m\u001b[1;34m/\u001b[0m\u001b[1;34m __ \\\u001b[0m\n",
       "\u001b[1;34m \u001b[0m\u001b[1;34m/\u001b[0m\u001b[1;34m \u001b[0m\u001b[1;34m/_/\u001b[0m\u001b[1;34m \u001b[0m\u001b[1;34m/\u001b[0m\u001b[1;34m \u001b[0m\u001b[1;34m/_/\u001b[0m\u001b[1;34m \u001b[0m\u001b[1;34m(\u001b[0m\u001b[1;34m__  \u001b[0m\u001b[1;34m)\u001b[0m\u001b[1;34m \u001b[0m\u001b[1;34m/_/\u001b[0m\u001b[1;34m \u001b[0m\u001b[1;34m/_/\u001b[0m\u001b[1;34m \u001b[0m\u001b[1;34m/\u001b[0m\u001b[1;34m \u001b[0m\u001b[1;34m/\u001b[0m\u001b[1;34m \u001b[0m\u001b[1;34m/\u001b[0m\u001b[1;34m \u001b[0m\u001b[1;34m/\u001b[0m\n",
       "\u001b[1;34m/_.___/\u001b[0m\u001b[1;34m\\__,_/____/\\__/\\____/_/ \u001b[0m\u001b[1;34m/_/\u001b[0m\u001b[1;34m \u001b[0m\n",
       "\n",
       "\u001b[1;33m> Live Coding tool, BuboBubo \u001b[0m\u001b[1;33m0.0\u001b[0m\u001b[1;33m.\u001b[0m\u001b[1;33m1\u001b[0m\n",
       "\n"
      ]
     },
     "metadata": {},
     "output_type": "display_data"
    }
   ],
   "source": [
    "from baston import *"
   ]
  },
  {
   "cell_type": "code",
   "execution_count": 3,
   "metadata": {},
   "outputs": [
    {
     "data": {
      "text/plain": [
       "23.19888"
      ]
     },
     "execution_count": 3,
     "metadata": {},
     "output_type": "execute_result"
    }
   ],
   "source": [
    "clock.beat"
   ]
  }
 ],
 "metadata": {
  "kernelspec": {
   "display_name": "Python 3",
   "language": "python",
   "name": "python3"
  },
  "language_info": {
   "codemirror_mode": {
    "name": "ipython",
    "version": 3
   },
   "file_extension": ".py",
   "mimetype": "text/x-python",
   "name": "python",
   "nbconvert_exporter": "python",
   "pygments_lexer": "ipython3",
   "version": "3.12.4"
  }
 },
 "nbformat": 4,
 "nbformat_minor": 2
}
