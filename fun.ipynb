{
 "cells": [
  {
   "cell_type": "code",
   "execution_count": 5,
   "metadata": {},
   "outputs": [],
   "source": [
    "from shrimp import *"
   ]
  },
  {
   "cell_type": "code",
   "execution_count": 6,
   "metadata": {},
   "outputs": [],
   "source": [
    "P.drums = s(\"bd hh*2\").every(4, fast(2)).out(superdirt)\n",
    "\n",
    "P.test = (\n",
    "    s(\"print*8\")\n",
    "    .n(\"1 3 2 4 5 8\")\n",
    "    .cut(1)\n",
    "    .out(superdirt)\n",
    "    .legato(0.25)\n",
    "    .fast(2)\n",
    "    .pan(rand())\n",
    "    .speed(rand().range(0.5, 1))\n",
    ")"
   ]
  },
  {
   "cell_type": "code",
   "execution_count": 3,
   "metadata": {},
   "outputs": [],
   "source": [
    "P.test = (\n",
    "    slowcat(m(\"c3!2 c2 [e4 bb3]\"), m(\"f2!2 f1 [eb4 g3]\"))\n",
    "    .out(midi)\n",
    "    .dur(1 / 4)\n",
    "    .velocity(110)\n",
    "    .early(0.125 / 2)\n",
    ")\n",
    "P.other = m(\"c2!4\").dur(sine().segment(4)).fast(2).early(0.125 / 2).out(midi)\n",
    "P.melo = m(\"c a g e c a f e\") + m(\"12\").fast(4).dur(sine().segment(4)).fast(2).early(0.125 / 2).out(\n",
    "    midi\n",
    ")"
   ]
  },
  {
   "cell_type": "code",
   "execution_count": 4,
   "metadata": {},
   "outputs": [],
   "source": [
    "P.clear()"
   ]
  },
  {
   "cell_type": "code",
   "execution_count": 213,
   "metadata": {},
   "outputs": [],
   "source": [
    "tune = stack(\"[c2*8, <[e,a] [d, f] [e, g]>]\", \"<c4*4 f3*4 e3*4>\", fast(2, \"c2 c2 ~ g2\"))\n",
    "P.base = m(tune).dur(1 / 4).early(0.21).velocity(\"{100 110 90}%4\").out(midi)"
   ]
  }
 ],
 "metadata": {
  "kernelspec": {
   "display_name": "Python 3",
   "language": "python",
   "name": "python3"
  },
  "language_info": {
   "codemirror_mode": {
    "name": "ipython",
    "version": 3
   },
   "file_extension": ".py",
   "mimetype": "text/x-python",
   "name": "python",
   "nbconvert_exporter": "python",
   "pygments_lexer": "ipython3",
   "version": "3.12.4"
  }
 },
 "nbformat": 4,
 "nbformat_minor": 2
}
