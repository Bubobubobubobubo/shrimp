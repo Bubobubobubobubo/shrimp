{
 "cells": [
  {
   "cell_type": "code",
   "execution_count": 1,
   "metadata": {},
   "outputs": [
    {
     "name": "stderr",
     "output_type": "stream",
     "text": [
      "Output device: Scarlett 2i2 USB (44100Hz, buffer size 256 samples, 2 channels)\n"
     ]
    },
    {
     "name": "stderr",
     "output_type": "stream",
     "text": [
      "Exception in thread Thread-8 (_osc_process_loop):\n",
      "Traceback (most recent call last):\n",
      "  File \"/Users/bubo/.pyenv/versions/3.12.4/lib/python3.12/threading.py\", line 1073, in _bootstrap_inner\n",
      "    self.run()\n",
      "  File \"/Users/bubo/.local/lib/python3.12/site-packages/ipykernel/ipkernel.py\", line 766, in run_closure\n",
      "    _threading_Thread_run(self)\n",
      "  File \"/Users/bubo/.pyenv/versions/3.12.4/lib/python3.12/threading.py\", line 1010, in run\n",
      "    self._target(*self._args, **self._kwargs)\n",
      "  File \"/Users/bubo/shrimp/src/shrimp/IO/osc.py\", line 48, in _osc_process_loop\n",
      "    osc_process()\n",
      "  File \"/Users/bubo/.pyenv/versions/3.12.4/lib/python3.12/site-packages/osc4py3/as_eventloop.py\", line 105, in osc_process\n",
      "    select_monitor.monitor_oneloop(0)\n",
      "  File \"/Users/bubo/.pyenv/versions/3.12.4/lib/python3.12/site-packages/osc4py3/oscscheduling.py\", line 381, in monitor_oneloop\n",
      "    rready, wready, eready = self.wait_events(timeout)\n",
      "                             ^^^^^^^^^^^^^^^^^^^^^^^^^\n",
      "  File \"/Users/bubo/.pyenv/versions/3.12.4/lib/python3.12/site-packages/osc4py3/oscscheduling.py\", line 662, in wait_events\n",
      "    self.controlsock.recv(512)\n",
      "BlockingIOError: [Errno 35] Resource temporarily unavailable\n"
     ]
    }
   ],
   "source": [
    "from shrimp import *"
   ]
  },
  {
   "cell_type": "code",
   "execution_count": 2,
   "metadata": {},
   "outputs": [
    {
     "name": "stderr",
     "output_type": "stream",
     "text": [
      "<unknown>:1: SyntaxWarning: invalid escape sequence '\\w'\n",
      "<unknown>:1: SyntaxWarning: invalid escape sequence '\\s'\n"
     ]
    }
   ],
   "source": [
    "P.drums = s(\"bd hh*2\").every(4, fast(2)).out(superdirt)\n",
    "\n",
    "P.test = s(\"gretsch(5,8)\").n(\"1 3 2 4 5 8\").cut(1).out(superdirt).pan(0).rev().speed(3)\n",
    "P.flap = (\n",
    "    s(\"gretsch(7,8)\")\n",
    "    .n(\"1 3 2 4 5 8\")\n",
    "    .cut(1)\n",
    "    .out(superdirt)\n",
    "    .pan(1)\n",
    "    .struct(fast(2, \"x x ~ x\"))\n",
    "    .pan(rand())\n",
    ")"
   ]
  },
  {
   "cell_type": "code",
   "execution_count": null,
   "metadata": {},
   "outputs": [],
   "source": [
    "P.test = (\n",
    "    slowcat(m(\"c3!2 c2 [e4 bb3]\"), m(\"f2!2 f1 [eb4 g3]\"))\n",
    "    .out(midi)\n",
    "    .dur(1 / 4)\n",
    "    .velocity(110)\n",
    "    .early(0.125 / 2)\n",
    ")\n",
    "P.other = m(\"c2!4\").dur(sine().segment(4)).fast(2).early(0.125 / 2).out(midi)\n",
    "P.melo = m(\"c a g e c a f e\") + m(\"12\").fast(4).dur(sine().segment(4)).fast(2).early(0.125 / 2).out(\n",
    "    midi\n",
    ")"
   ]
  },
  {
   "cell_type": "code",
   "execution_count": 3,
   "metadata": {},
   "outputs": [],
   "source": [
    "P.clear()"
   ]
  },
  {
   "cell_type": "code",
   "execution_count": null,
   "metadata": {},
   "outputs": [],
   "source": [
    "tune = stack(\"[c2*8, <[e,a] [d, f] [e, g]>]\", \"<c4*4 f3*4 e3*4>\", fast(2, \"c2 c2 ~ g2\"))\n",
    "P.base = m(tune).dur(1 / 4).early(0.21).velocity(\"{100 110 90}%4\").out(midi)"
   ]
  }
 ],
 "metadata": {
  "kernelspec": {
   "display_name": "Python 3",
   "language": "python",
   "name": "python3"
  },
  "language_info": {
   "codemirror_mode": {
    "name": "ipython",
    "version": 3
   },
   "file_extension": ".py",
   "mimetype": "text/x-python",
   "name": "python",
   "nbconvert_exporter": "python",
   "pygments_lexer": "ipython3",
   "version": "3.12.4"
  }
 },
 "nbformat": 4,
 "nbformat_minor": 2
}
