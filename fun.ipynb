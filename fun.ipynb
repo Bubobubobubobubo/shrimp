{
 "cells": [
  {
   "cell_type": "code",
   "execution_count": null,
   "metadata": {},
   "outputs": [],
   "source": [
    "from shrimp import *"
   ]
  },
  {
   "cell_type": "code",
   "execution_count": null,
   "metadata": {},
   "outputs": [],
   "source": [
    "P.drums = s(\"bd hh*2\").every(4, fast(2)).out(superdirt)\n",
    "\n",
    "P.test = s(\"gretsch(5,8)\").n(\"1 3 2 4 5 8\").cut(1).out(superdirt).pan(0).rev().speed(3)\n",
    "P.flap = (\n",
    "    s(\"gretsch(7,8)\")\n",
    "    .n(\"1 3 2 4 5 8\")\n",
    "    .cut(1)\n",
    "    .out(superdirt)\n",
    "    .pan(1)\n",
    "    .struct(fast(2, \"x x ~ x\"))\n",
    "    .pan(rand())\n",
    ")"
   ]
  },
  {
   "cell_type": "code",
   "execution_count": null,
   "metadata": {},
   "outputs": [],
   "source": [
    "P.test = (\n",
    "    slowcat(m(\"c3!2 c2 [e4 bb3]\"), m(\"f2!2 f1 [eb4 g3]\"))\n",
    "    .out(midi)\n",
    "    .dur(1 / 4)\n",
    "    .velocity(110)\n",
    "    .early(0.125 / 2)\n",
    ")\n",
    "P.other = m(\"c2!4\").dur(sine().segment(4)).fast(2).early(0.125 / 2).out(midi)\n",
    "P.melo = m(\"c a g e c a f e\") + m(\"12\").fast(4).dur(sine().segment(4)).fast(2).early(0.125 / 2).out(\n",
    "    midi\n",
    ")"
   ]
  },
  {
   "cell_type": "code",
   "execution_count": 2,
   "metadata": {},
   "outputs": [
    {
     "name": "stderr",
     "output_type": "stream",
     "text": [
      "Output device: Haut-parleurs MacBook Pro (44100Hz, buffer size 256 samples, 2 channels)\n"
     ]
    }
   ],
   "source": [
    "from shrimp import *"
   ]
  },
  {
   "cell_type": "code",
   "execution_count": 124,
   "metadata": {},
   "outputs": [],
   "source": [
    "P.test = stack(m(\"~!3 [eb4, g4]\").release(0.5), m(\"c2 eb2 g2 <c g ab g>*2\")).every(4, slow(2)).fast(\n",
    "    2\n",
    ") + m(\"0!8 5!8\").out(synth_multisaw).pan(rand()).release(\"0.25 0.33 0.125\").ratio(\n",
    "    \"[3, 0.99]\"\n",
    ").depth(\n",
    "    fast(2, \"2.5 5 7.5 1\")\n",
    ").amp(\n",
    "    0.1 / 2\n",
    ").cutoff(\n",
    "    8000\n",
    ")\n",
    "P.kick = m(\"60*<4!15 1!1>\").out(synth_kick).amp(0.2)\n",
    "P.snare = m(\"~ <40!3 40*2|4> ~!2\").out(synth_snare).amp(0.2)\n",
    "P.hat = m(\"60(13,16)\").out(synth_hat).amp(0.08).pan(rand().range(0.25, 0.75))"
   ]
  },
  {
   "cell_type": "code",
   "execution_count": 125,
   "metadata": {},
   "outputs": [],
   "source": [
    "P.clear()"
   ]
  }
 ],
 "metadata": {
  "kernelspec": {
   "display_name": "Python 3",
   "language": "python",
   "name": "python3"
  },
  "language_info": {
   "codemirror_mode": {
    "name": "ipython",
    "version": 3
   },
   "file_extension": ".py",
   "mimetype": "text/x-python",
   "name": "python",
   "nbconvert_exporter": "python",
   "pygments_lexer": "ipython3",
   "version": "3.12.4"
  }
 },
 "nbformat": 4,
 "nbformat_minor": 2
}
