{
 "cells": [
  {
   "cell_type": "code",
   "execution_count": null,
   "metadata": {},
   "outputs": [],
   "source": [
    "from baston import *\n",
    "clock.delay = -100\n",
    "clock.tempo = 80\n",
    "PlayerConfig.scale = SCALES.algerian\n",
    "PlayerConfig.root = 30"
   ]
  },
  {
   "cell_type": "code",
   "execution_count": null,
   "metadata": {},
   "outputs": [],
   "source": [
    "p1 * n(Pn(0, root=58)\n",
    "       .repeat(4)\n",
    "       .arp([Prand(0, 7), Pdur([5, 12], [4, 4])]) | Pn(7), \n",
    "       p=Pseq(Peuclid(5, 8), Peuclid(6, 8)).repeat(8)\n",
    "       / Pdur([4, 8], [14, 2]), \n",
    "       duration=Psine(1/2, 1/8, 0.6)/2, \n",
    "       velocity=Prand(80, 110)\n",
    ")"
   ]
  },
  {
   "cell_type": "code",
   "execution_count": null,
   "metadata": {},
   "outputs": [],
   "source": [
    "silence()"
   ]
  },
  {
   "cell_type": "code",
   "execution_count": 1,
   "metadata": {},
   "outputs": [
    {
     "name": "stderr",
     "output_type": "stream",
     "text": [
      "Output device: Haut-parleurs MacBook Pro (44100Hz, buffer size 256 samples, 2 channels)\n"
     ]
    },
    {
     "data": {
      "text/html": [
       "<pre style=\"white-space:pre;overflow-x:auto;line-height:normal;font-family:Menlo,'DejaVu Sans Mono',consolas,'Courier New',monospace\"><span style=\"color: #000080; text-decoration-color: #000080; font-weight: bold\">d8888b.  .d8b.  .d8888. d888888b  .d88b.  d8b   db </span>\n",
       "<span style=\"color: #000080; text-decoration-color: #000080; font-weight: bold\">88</span><span style=\"color: #000080; text-decoration-color: #000080; font-weight: bold\">  `8D d8' `8b </span><span style=\"color: #000080; text-decoration-color: #000080; font-weight: bold\">88</span><span style=\"color: #000080; text-decoration-color: #000080; font-weight: bold\">'  YP `~~</span><span style=\"color: #000080; text-decoration-color: #000080; font-weight: bold\">88</span><span style=\"color: #000080; text-decoration-color: #000080; font-weight: bold\">~~' .8P  Y8. 888o  </span><span style=\"color: #000080; text-decoration-color: #000080; font-weight: bold\">88</span><span style=\"color: #000080; text-decoration-color: #000080; font-weight: bold\"> </span>\n",
       "<span style=\"color: #000080; text-decoration-color: #000080; font-weight: bold\">88oooY' 88ooo88 `8bo.      </span><span style=\"color: #000080; text-decoration-color: #000080; font-weight: bold\">88</span><span style=\"color: #000080; text-decoration-color: #000080; font-weight: bold\">    </span><span style=\"color: #000080; text-decoration-color: #000080; font-weight: bold\">88</span><span style=\"color: #000080; text-decoration-color: #000080; font-weight: bold\">    </span><span style=\"color: #000080; text-decoration-color: #000080; font-weight: bold\">88</span><span style=\"color: #000080; text-decoration-color: #000080; font-weight: bold\"> 88V8o </span><span style=\"color: #000080; text-decoration-color: #000080; font-weight: bold\">88</span><span style=\"color: #000080; text-decoration-color: #000080; font-weight: bold\"> </span>\n",
       "<span style=\"color: #000080; text-decoration-color: #000080; font-weight: bold\">88</span><span style=\"color: #000080; text-decoration-color: #000080; font-weight: bold\">~~~b. </span><span style=\"color: #000080; text-decoration-color: #000080; font-weight: bold\">88</span><span style=\"color: #000080; text-decoration-color: #000080; font-weight: bold\">~~~</span><span style=\"color: #000080; text-decoration-color: #000080; font-weight: bold\">88</span><span style=\"color: #000080; text-decoration-color: #000080; font-weight: bold\">   `Y8b.    </span><span style=\"color: #000080; text-decoration-color: #000080; font-weight: bold\">88</span><span style=\"color: #000080; text-decoration-color: #000080; font-weight: bold\">    </span><span style=\"color: #000080; text-decoration-color: #000080; font-weight: bold\">88</span><span style=\"color: #000080; text-decoration-color: #000080; font-weight: bold\">    </span><span style=\"color: #000080; text-decoration-color: #000080; font-weight: bold\">88</span><span style=\"color: #000080; text-decoration-color: #000080; font-weight: bold\"> </span><span style=\"color: #000080; text-decoration-color: #000080; font-weight: bold\">88</span><span style=\"color: #000080; text-decoration-color: #000080; font-weight: bold\"> V8o88 </span>\n",
       "<span style=\"color: #000080; text-decoration-color: #000080; font-weight: bold\">88</span><span style=\"color: #000080; text-decoration-color: #000080; font-weight: bold\">   8D </span><span style=\"color: #000080; text-decoration-color: #000080; font-weight: bold\">88</span><span style=\"color: #000080; text-decoration-color: #000080; font-weight: bold\">   </span><span style=\"color: #000080; text-decoration-color: #000080; font-weight: bold\">88</span><span style=\"color: #000080; text-decoration-color: #000080; font-weight: bold\"> db   8D    </span><span style=\"color: #000080; text-decoration-color: #000080; font-weight: bold\">88</span><span style=\"color: #000080; text-decoration-color: #000080; font-weight: bold\">    `8b  d8' </span><span style=\"color: #000080; text-decoration-color: #000080; font-weight: bold\">88</span><span style=\"color: #000080; text-decoration-color: #000080; font-weight: bold\">  V888 </span>\n",
       "<span style=\"color: #000080; text-decoration-color: #000080; font-weight: bold\">Y8888P' YP   YP `8888Y'    YP     `Y88P'  VP   V8P </span>\n",
       "<span style=\"color: #000080; text-decoration-color: #000080; font-weight: bold\">                                                   </span>\n",
       "<span style=\"color: #000080; text-decoration-color: #000080; font-weight: bold\">                                                   </span>\n",
       "\n",
       "<span style=\"color: #808000; text-decoration-color: #808000; font-weight: bold\">&gt; Live Coding tool, BuboBubo </span><span style=\"color: #808000; text-decoration-color: #808000; font-weight: bold\">0.0</span><span style=\"color: #808000; text-decoration-color: #808000; font-weight: bold\">.</span><span style=\"color: #808000; text-decoration-color: #808000; font-weight: bold\">1</span>\n",
       "</pre>\n"
      ],
      "text/plain": [
       "\u001b[1;34md8888b.  .d8b.  .d8888. d888888b  .d88b.  d8b   db \u001b[0m\n",
       "\u001b[1;34m88\u001b[0m\u001b[1;34m  `8D d8' `8b \u001b[0m\u001b[1;34m88\u001b[0m\u001b[1;34m'  YP `~~\u001b[0m\u001b[1;34m88\u001b[0m\u001b[1;34m~~' .8P  Y8. 888o  \u001b[0m\u001b[1;34m88\u001b[0m\u001b[1;34m \u001b[0m\n",
       "\u001b[1;34m88oooY' 88ooo88 `8bo.      \u001b[0m\u001b[1;34m88\u001b[0m\u001b[1;34m    \u001b[0m\u001b[1;34m88\u001b[0m\u001b[1;34m    \u001b[0m\u001b[1;34m88\u001b[0m\u001b[1;34m 88V8o \u001b[0m\u001b[1;34m88\u001b[0m\u001b[1;34m \u001b[0m\n",
       "\u001b[1;34m88\u001b[0m\u001b[1;34m~~~b. \u001b[0m\u001b[1;34m88\u001b[0m\u001b[1;34m~~~\u001b[0m\u001b[1;34m88\u001b[0m\u001b[1;34m   `Y8b.    \u001b[0m\u001b[1;34m88\u001b[0m\u001b[1;34m    \u001b[0m\u001b[1;34m88\u001b[0m\u001b[1;34m    \u001b[0m\u001b[1;34m88\u001b[0m\u001b[1;34m \u001b[0m\u001b[1;34m88\u001b[0m\u001b[1;34m V8o88 \u001b[0m\n",
       "\u001b[1;34m88\u001b[0m\u001b[1;34m   8D \u001b[0m\u001b[1;34m88\u001b[0m\u001b[1;34m   \u001b[0m\u001b[1;34m88\u001b[0m\u001b[1;34m db   8D    \u001b[0m\u001b[1;34m88\u001b[0m\u001b[1;34m    `8b  d8' \u001b[0m\u001b[1;34m88\u001b[0m\u001b[1;34m  V888 \u001b[0m\n",
       "\u001b[1;34mY8888P' YP   YP `8888Y'    YP     `Y88P'  VP   V8P \u001b[0m\n",
       "\u001b[1;34m                                                   \u001b[0m\n",
       "\u001b[1;34m                                                   \u001b[0m\n",
       "\n",
       "\u001b[1;33m> Live Coding tool, BuboBubo \u001b[0m\u001b[1;33m0.0\u001b[0m\u001b[1;33m.\u001b[0m\u001b[1;33m1\u001b[0m\n"
      ]
     },
     "metadata": {},
     "output_type": "display_data"
    },
    {
     "data": {
      "text/html": [
       "<pre style=\"white-space:pre;overflow-x:auto;line-height:normal;font-family:Menlo,'DejaVu Sans Mono',consolas,'Courier New',monospace\"><span style=\"color: #808000; text-decoration-color: #808000; font-weight: bold\">&gt; MIDI Output </span><span style=\"color: #800000; text-decoration-color: #800000; font-weight: bold\">midi</span><span style=\"color: #808000; text-decoration-color: #808000; font-weight: bold\"> added for port: </span><span style=\"color: #800000; text-decoration-color: #800000; font-weight: bold\">baston</span><span style=\"color: #808000; text-decoration-color: #808000; font-weight: bold\"> </span>\n",
       "</pre>\n"
      ],
      "text/plain": [
       "\u001b[1;33m> MIDI Output \u001b[0m\u001b[1;31mmidi\u001b[0m\u001b[1;33m added for port: \u001b[0m\u001b[1;31mbaston\u001b[0m\u001b[1;33m \u001b[0m\n"
      ]
     },
     "metadata": {},
     "output_type": "display_data"
    },
    {
     "data": {
      "text/html": [
       "<pre style=\"white-space:pre;overflow-x:auto;line-height:normal;font-family:Menlo,'DejaVu Sans Mono',consolas,'Courier New',monospace\"><span style=\"color: #808000; text-decoration-color: #808000; font-weight: bold\">&gt; MIDI Output </span><span style=\"color: #800000; text-decoration-color: #800000; font-weight: bold\">midi_in</span><span style=\"color: #808000; text-decoration-color: #808000; font-weight: bold\"> added for port: </span><span style=\"color: #800000; text-decoration-color: #800000; font-weight: bold\">baston</span><span style=\"color: #808000; text-decoration-color: #808000; font-weight: bold\"> </span>\n",
       "</pre>\n"
      ],
      "text/plain": [
       "\u001b[1;33m> MIDI Output \u001b[0m\u001b[1;31mmidi_in\u001b[0m\u001b[1;33m added for port: \u001b[0m\u001b[1;31mbaston\u001b[0m\u001b[1;33m \u001b[0m\n"
      ]
     },
     "metadata": {},
     "output_type": "display_data"
    },
    {
     "data": {
      "text/html": [
       "<pre style=\"white-space:pre;overflow-x:auto;line-height:normal;font-family:Menlo,'DejaVu Sans Mono',consolas,'Courier New',monospace\"><span style=\"color: #808000; text-decoration-color: #808000; font-weight: bold\">&gt; OSC Port added: </span><span style=\"color: #800000; text-decoration-color: #800000; font-weight: bold\">superdirt</span><span style=\"color: #808000; text-decoration-color: #808000; font-weight: bold\"> </span>\n",
       "</pre>\n"
      ],
      "text/plain": [
       "\u001b[1;33m> OSC Port added: \u001b[0m\u001b[1;31msuperdirt\u001b[0m\u001b[1;33m \u001b[0m\n"
      ]
     },
     "metadata": {},
     "output_type": "display_data"
    },
    {
     "name": "stdout",
     "output_type": "stream",
     "text": [
      "[0, 5, 0, 7, 2, 7, 2, 9, 3, 8, 3, 10, 4, 9, 4, 11]\n",
      "[0, 5, 0, 7, 2, 7, 2, 9, 3, 8, 3, 10, 4, 9, 4, 11]\n",
      "[0, 5, 0, 7, 2, 7, 2, 9, 3, 8, 3, 10, 4, 9, 4, 11]\n",
      "[0, 5, 0, 7, 2, 7, 2, 9, 3, 8, 3, 10, 4, 9, 4, 11]\n",
      "[0, 5, 0, 7, 2, 7, 2, 9, 3, 8, 3, 10, 4, 9, 4, 11]\n",
      "[0, 5, 0, 7, 2, 7, 2, 9, 3, 8, 3, 10, 4, 9, 4, 11]\n",
      "[0, 5, 0, 7, 2, 7, 2, 9, 3, 8, 3, 10, 4, 9, 4, 11]\n",
      "[0, 5, 0, 7, 2, 7, 2, 9, 3, 8, 3, 10, 4, 9, 4, 11]\n",
      "[0, 5, 0, 7, 2, 7, 2, 9, 3, 8, 3, 10, 4, 9, 4, 11]\n",
      "[0, 5, 0, 7, 2, 7, 2, 9, 3, 8, 3, 10, 4, 9, 4, 11]\n",
      "[0, 5, 0, 7, 2, 7, 2, 9, 3, 8, 3, 10, 4, 9, 4, 11]\n",
      "[0, 5, 0, 7, 2, 7, 2, 9, 3, 8, 3, 10, 4, 9, 4, 11]\n",
      "[0, 5, 0, 7, 2, 7, 2, 9, 3, 8, 3, 10, 4, 9, 4, 11]\n",
      "[0, 5, 0, 7, 2, 7, 2, 9, 3, 8, 3, 10, 4, 9, 4, 11]\n",
      "[0, 5, 0, 7, 2, 7, 2, 9, 3, 8, 3, 10, 4, 9, 4, 11]\n",
      "[0, 5, 0, 7, 2, 7, 2, 9, 3, 8, 3, 10, 4, 9, 4, 11]\n",
      "[0, 5, 0, 7, 2, 7, 2, 9, 3, 8, 3, 10, 4, 9, 4, 11]\n",
      "[0, 5, 0, 7, 2, 7, 2, 9, 3, 8, 3, 10, 4, 9, 4, 11]\n",
      "[0, 5, 0, 7, 2, 7, 2, 9, 3, 8, 3, 10, 4, 9, 4, 11]\n",
      "[0, 5, 0, 7, 2, 7, 2, 9, 3, 8, 3, 10, 4, 9, 4, 11]\n",
      "[0, 5, 0, 7, 2, 7, 2, 9, 3, 8, 3, 10, 4, 9, 4, 11]\n",
      "[0, 5, 0, 7, 2, 7, 2, 9, 3, 8, 3, 10, 4, 9, 4, 11]\n",
      "[0, 5, 0, 7, 2, 7, 2, 9, 3, 8, 3, 10, 4, 9, 4, 11]\n",
      "[0, 5, 0, 7, 2, 7, 2, 9, 3, 8, 3, 10, 4, 9, 4, 11]\n",
      "[0, 5, 0, 7, 2, 7, 2, 9, 3, 8, 3, 10, 4, 9, 4, 11]\n",
      "[0, 5, 0, 7, 2, 7, 2, 9, 3, 8, 3, 10, 4, 9, 4, 11]\n",
      "[0, 5, 0, 7, 2, 7, 2, 9, 3, 8, 3, 10, 4, 9, 4, 11]\n",
      "[0, 5, 0, 7, 2, 7, 2, 9, 3, 8, 3, 10, 4, 9, 4, 11]\n",
      "[0, 5, 0, 7, 2, 7, 2, 9, 3, 8, 3, 10, 4, 9, 4, 11]\n",
      "[0, 5, 0, 7, 2, 7, 2, 9, 3, 8, 3, 10, 4, 9, 4, 11]\n",
      "[0, 5, 0, 7, 2, 7, 2, 9, 3, 8, 3, 10, 4, 9, 4, 11]\n",
      "[0, 5, 0, 7, 2, 7, 2, 9, 3, 8, 3, 10, 4, 9, 4, 11]\n",
      "[0, 5, 0, 7, 2, 7, 2, 9, 3, 8, 3, 10, 4, 9, 4, 11]\n",
      "[0, 5, 0, 7, 2, 7, 2, 9, 3, 8, 3, 10, 4, 9, 4, 11]\n",
      "[0, 5, 0, 7, 2, 7, 2, 9, 3, 8, 3, 10, 4, 9, 4, 11]\n",
      "[0, 5, 0, 7, 2, 7, 2, 9, 3, 8, 3, 10, 4, 9, 4, 11]\n",
      "[0, 5, 0, 7, 2, 7, 2, 9, 3, 8, 3, 10, 4, 9, 4, 11]\n",
      "[0, 5, 0, 7, 2, 7, 2, 9, 3, 8, 3, 10, 4, 9, 4, 11]\n",
      "[0, 5, 0, 7, 2, 7, 2, 9, 3, 8, 3, 10, 4, 9, 4, 11]\n",
      "[0, 5, 0, 7, 2, 7, 2, 9, 3, 8, 3, 10, 4, 9, 4, 11]\n",
      "[0, 5, 0, 7, 2, 7, 2, 9, 3, 8, 3, 10, 4, 9, 4, 11]\n",
      "[0, 5, 0, 7, 2, 7, 2, 9, 3, 8, 3, 10, 4, 9, 4, 11]\n",
      "[0, 5, 0, 7, 2, 7, 2, 9, 3, 8, 3, 10, 4, 9, 4, 11]\n",
      "[0, 5, 0, 7, 2, 7, 2, 9, 3, 8, 3, 10, 4, 9, 4, 11]\n",
      "[0, 5, 0, 7, 2, 7, 2, 9, 3, 8, 3, 10, 4, 9, 4, 11]\n",
      "[0, 5, 0, 7, 2, 7, 2, 9, 3, 8, 3, 10, 4, 9, 4, 11]\n",
      "[0, 5, 0, 7, 2, 7, 2, 9, 3, 8, 3, 10, 4, 9, 4, 11]\n",
      "[0, 5, 0, 7, 2, 7, 2, 9, 3, 8, 3, 10, 4, 9, 4, 11]\n",
      "[0, 5, 0, 7, 2, 7, 2, 9, 3, 8, 3, 10, 4, 9, 4, 11]\n",
      "[0, 5, 0, 7, 2, 7, 2, 9, 3, 8, 3, 10, 4, 9, 4, 11]\n",
      "[0, 5, 0, 7, 2, 7, 2, 9, 3, 8, 3, 10, 4, 9, 4, 11]\n",
      "[0, 5, 0, 7, 2, 7, 2, 9, 3, 8, 3, 10, 4, 9, 4, 11]\n",
      "[0, 5, 0, 7, 2, 7, 2, 9, 3, 8, 3, 10, 4, 9, 4, 11]\n",
      "[0, 5, 0, 7, 2, 7, 2, 9, 3, 8, 3, 10, 4, 9, 4, 11]\n",
      "[0, 5, 0, 7, 2, 7, 2, 9, 3, 8, 3, 10, 4, 9, 4, 11]\n",
      "[0, 5, 0, 7, 2, 7, 2, 9, 3, 8, 3, 10, 4, 9, 4, 11]\n",
      "[0, 5, 0, 7, 2, 7, 2, 9, 3, 8, 3, 10, 4, 9, 4, 11]\n",
      "[0, 5, 0, 7, 2, 7, 2, 9, 3, 8, 3, 10, 4, 9, 4, 11]\n",
      "[0, 5, 0, 7, 2, 7, 2, 9, 3, 8, 3, 10, 4, 9, 4, 11]\n",
      "[0, 5, 0, 7, 2, 7, 2, 9, 3, 8, 3, 10, 4, 9, 4, 11]\n",
      "[0, 5, 0, 7, 2, 7, 2, 9, 3, 8, 3, 10, 4, 9, 4, 11]\n",
      "[0, 5, 0, 7, 2, 7, 2, 9, 3, 8, 3, 10, 4, 9, 4, 11]\n",
      "[0, 5, 0, 7, 2, 7, 2, 9, 3, 8, 3, 10, 4, 9, 4, 11]\n",
      "[0, 5, 0, 7, 2, 7, 2, 9, 3, 8, 3, 10, 4, 9, 4, 11]\n",
      "[0, 5, 0, 7, 2, 7, 2, 9, 3, 8, 3, 10, 4, 9, 4, 11]\n",
      "[0, 5, 0, 7, 2, 7, 2, 9, 3, 8, 3, 10, 4, 9, 4, 11]\n",
      "[0, 5, 0, 7, 2, 7, 2, 9, 3, 8, 3, 10, 4, 9, 4, 11]\n",
      "[0, 5, 0, 7, 2, 7, 2, 9, 3, 8, 3, 10, 4, 9, 4, 11]\n",
      "[0, 5, 0, 7, 2, 7, 2, 9, 3, 8, 3, 10, 4, 9, 4, 11]\n",
      "[0, 5, 0, 7, 2, 7, 2, 9, 3, 8, 3, 10, 4, 9, 4, 11]\n",
      "[0, 5, 0, 7, 2, 7, 2, 9, 3, 8, 3, 10, 4, 9, 4, 11]\n",
      "[0, 5, 0, 7, 2, 7, 2, 9, 3, 8, 3, 10, 4, 9, 4, 11]\n",
      "[0, 5, 0, 7, 2, 7, 2, 9, 3, 8, 3, 10, 4, 9, 4, 11]\n",
      "[0, 5, 0, 7, 2, 7, 2, 9, 3, 8, 3, 10, 4, 9, 4, 11]\n",
      "[0, 5, 0, 7, 2, 7, 2, 9, 3, 8, 3, 10, 4, 9, 4, 11]\n",
      "[0, 5, 0, 7, 2, 7, 2, 9, 3, 8, 3, 10, 4, 9, 4, 11]\n",
      "[0, 5, 0, 7, 2, 7, 2, 9, 3, 8, 3, 10, 4, 9, 4, 11]\n",
      "[0, 5, 0, 7, 2, 7, 2, 9, 3, 8, 3, 10, 4, 9, 4, 11]\n",
      "[0, 5, 0, 7, 2, 7, 2, 9, 3, 8, 3, 10, 4, 9, 4, 11]\n",
      "[0, 5, 0, 7, 2, 7, 2, 9, 3, 8, 3, 10, 4, 9, 4, 11]\n",
      "[0, 5, 0, 7, 2, 7, 2, 9, 3, 8, 3, 10, 4, 9, 4, 11]\n",
      "[0, 5, 0, 7, 2, 7, 2, 9, 3, 8, 3, 10, 4, 9, 4, 11]\n",
      "[0, 5, 0, 7, 2, 7, 2, 9, 3, 8, 3, 10, 4, 9, 4, 11]\n",
      "[0, 5, 0, 7, 2, 7, 2, 9, 3, 8, 3, 10, 4, 9, 4, 11]\n",
      "[0, 5, 0, 7, 2, 7, 2, 9, 3, 8, 3, 10, 4, 9, 4, 11]\n",
      "[0, 5, 0, 7, 2, 7, 2, 9, 3, 8, 3, 10, 4, 9, 4, 11]\n",
      "[0, 5, 0, 7, 2, 7, 2, 9, 3, 8, 3, 10, 4, 9, 4, 11]\n",
      "[0, 5, 0, 7, 2, 7, 2, 9, 3, 8, 3, 10, 4, 9, 4, 11]\n",
      "[0, 5, 0, 7, 2, 7, 2, 9, 3, 8, 3, 10, 4, 9, 4, 11]\n",
      "[0, 5, 0, 7, 2, 7, 2, 9, 3, 8, 3, 10, 4, 9, 4, 11]\n",
      "[0, 5, 0, 7, 2, 7, 2, 9, 3, 8, 3, 10, 4, 9, 4, 11]\n",
      "[0, 5, 0, 7, 2, 7, 2, 9, 3, 8, 3, 10, 4, 9, 4, 11]\n",
      "[0, 5, 0, 7, 2, 7, 2, 9, 3, 8, 3, 10, 4, 9, 4, 11]\n",
      "[0, 5, 0, 7, 2, 7, 2, 9, 3, 8, 3, 10, 4, 9, 4, 11]\n",
      "[0, 5, 0, 7, 2, 7, 2, 9, 3, 8, 3, 10, 4, 9, 4, 11]\n",
      "[0, 5, 0, 7, 2, 7, 2, 9, 3, 8, 3, 10, 4, 9, 4, 11]\n"
     ]
    }
   ],
   "source": [
    "from baston import *"
   ]
  },
  {
   "cell_type": "code",
   "execution_count": 3,
   "metadata": {},
   "outputs": [],
   "source": [
    "p1 * n(\n",
    "    note=Pn(0, 2, 3, 4, root=50)\n",
    "      .every(2, Pseq.arp, [0, 5, 0, 7]),\n",
    "    p=1/4, duration=1/4,\n",
    ")"
   ]
  },
  {
   "cell_type": "code",
   "execution_count": null,
   "metadata": {},
   "outputs": [],
   "source": []
  }
 ],
 "metadata": {
  "kernelspec": {
   "display_name": "Python 3",
   "language": "python",
   "name": "python3"
  },
  "language_info": {
   "codemirror_mode": {
    "name": "ipython",
    "version": 3
   },
   "file_extension": ".py",
   "mimetype": "text/x-python",
   "name": "python",
   "nbconvert_exporter": "python",
   "pygments_lexer": "ipython3",
   "version": "3.12.4"
  }
 },
 "nbformat": 4,
 "nbformat_minor": 2
}
