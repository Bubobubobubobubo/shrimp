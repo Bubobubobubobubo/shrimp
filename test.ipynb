{
 "cells": [
  {
   "cell_type": "code",
   "execution_count": 1,
   "id": "e5e9746e",
   "metadata": {},
   "outputs": [
    {
     "name": "stdout",
     "output_type": "stream",
     "text": [
      "Première itération à : 4.004355\n",
      "Première itération à : 4.004355\n"
     ]
    }
   ],
   "source": [
    "from baston import *\n",
    "clock.tempo = 80"
   ]
  },
  {
   "cell_type": "code",
   "execution_count": 11,
   "id": "de95227f",
   "metadata": {},
   "outputs": [],
   "source": [
    "aa * n(note=Pnote(0) + 24, dur=Pseq(1/2, 1/2, 1/2, 1/2, Rest(2)), duration=0.2)\n",
    "ba * n(note=Pnote(0, 3, 5)+12, dur=Pseq(1/4, 1/2, 1/4, 1/2, 1/4, 1/2, 1/4, 1/2), duration=1/4)\n",
    "ca * n(note=Pnote(0, 3, 2, 7, repeat=8) - 24, dur=1/4, duration=1/3)\n",
    "PlayerConfig.scale = \"minor\""
   ]
  },
  {
   "cell_type": "code",
   "execution_count": 4,
   "id": "318154b3",
   "metadata": {},
   "outputs": [],
   "source": [
    "clock._delay = -70"
   ]
  },
  {
   "cell_type": "code",
   "execution_count": 13,
   "id": "9b3b423c",
   "metadata": {},
   "outputs": [
    {
     "ename": "AttributeError",
     "evalue": "'Player' object has no attribute 'play'",
     "output_type": "error",
     "traceback": [
      "\u001b[0;31m---------------------------------------------------------------------------\u001b[0m",
      "\u001b[0;31mAttributeError\u001b[0m                            Traceback (most recent call last)",
      "Cell \u001b[0;32mIn[13], line 1\u001b[0m\n\u001b[0;32m----> 1\u001b[0m \u001b[43maa\u001b[49m\u001b[38;5;241;43m.\u001b[39;49m\u001b[43mplay\u001b[49m()\n",
      "\u001b[0;31mAttributeError\u001b[0m: 'Player' object has no attribute 'play'"
     ]
    }
   ],
   "source": [
    "aa.play()"
   ]
  },
  {
   "cell_type": "code",
   "execution_count": null,
   "id": "d02784da",
   "metadata": {},
   "outputs": [],
   "source": []
  }
 ],
 "metadata": {
  "kernelspec": {
   "display_name": "Python 3 (ipykernel)",
   "language": "python",
   "name": "python3"
  },
  "language_info": {
   "codemirror_mode": {
    "name": "ipython",
    "version": 3
   },
   "file_extension": ".py",
   "mimetype": "text/x-python",
   "name": "python",
   "nbconvert_exporter": "python",
   "pygments_lexer": "ipython3",
   "version": "3.12.4"
  }
 },
 "nbformat": 4,
 "nbformat_minor": 5
}
