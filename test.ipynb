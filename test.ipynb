{
 "cells": [
  {
   "cell_type": "code",
   "execution_count": 1,
   "id": "d37ee850",
   "metadata": {},
   "outputs": [],
   "source": [
    "from baston import *\n",
    "clock.tempo = 140\n",
    "clock.delay = -50\n",
    "superdirt.nudge = 0.0"
   ]
  },
  {
   "cell_type": "code",
   "execution_count": 2,
   "id": "5b82cadf",
   "metadata": {},
   "outputs": [],
   "source": [
    "clock.tempo = 95\n",
    "aa * dirt(sound=Pseq(\"bd\", \"print\", \"drum\", \"drum\"), \n",
    "          n=Pdur([4, Prand(1, 10), 2, Prand(10, 20)], [2, 6, 1, 2]),\n",
    "          pan=Psine(2, -0.5, 0.5), \n",
    "          dur=Pseq(1/2, 1/2, Rest(2)), speed=Plin(1, 4, 20), quant='bar')\n",
    "bc * dirt(sound=\"uxay\", amp=1, speed=1, \n",
    "          dur=Pdur([Peuclid(5, 8)/2, 1/8], [3.5, 0.5]),\n",
    "          n=Pdur([0, 4], [3, 3]),\n",
    "          legato=1, quant='bar')\n",
    "ba * dirt(sound=\"808\", n=Prand(1, 20), \n",
    "          dur=Pdur([1/4, 1], [12, 2]),\n",
    "          pan=Psine(1/2, -1, 1), \n",
    "          legato=Plin(1/8, 1/2, 4),\n",
    "          dry=Pmbar(4, 0.125, 0.5), \n",
    "          orbit=2)"
   ]
  },
  {
   "cell_type": "code",
   "execution_count": 3,
   "id": "b71117c2",
   "metadata": {},
   "outputs": [],
   "source": [
    "silence()"
   ]
  }
 ],
 "metadata": {
  "kernelspec": {
   "display_name": "Python 3 (ipykernel)",
   "language": "python",
   "name": "python3"
  },
  "language_info": {
   "codemirror_mode": {
    "name": "ipython",
    "version": 3
   },
   "file_extension": ".py",
   "mimetype": "text/x-python",
   "name": "python",
   "nbconvert_exporter": "python",
   "pygments_lexer": "ipython3",
   "version": "3.12.4"
  }
 },
 "nbformat": 4,
 "nbformat_minor": 5
}
