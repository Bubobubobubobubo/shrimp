{
 "cells": [
  {
   "cell_type": "code",
   "execution_count": 1,
   "id": "8d42ba11-829e-4a51-87b5-959e4941f70d",
   "metadata": {},
   "outputs": [
    {
     "name": "stdout",
     "output_type": "stream",
     "text": [
      "New beat is:  -3.96444\n"
     ]
    }
   ],
   "source": [
    "from baston import *"
   ]
  },
  {
   "cell_type": "code",
   "execution_count": 32,
   "id": "e5e9746e",
   "metadata": {},
   "outputs": [
    {
     "name": "stdout",
     "output_type": "stream",
     "text": [
      "Syncing ba to bar\n"
     ]
    }
   ],
   "source": [
    "aa * n(note=Pnote(0, 2, 3, 0, 2, 5, 0, 7) + Pseq(0, 5, repeat=8) -12, dur=1)\n",
    "ba * n(note=Pnote(0, 7, 0, 5, 0, 9, 0, 7) + Pseq(0, 5, repeat=8), dur=1/2)\n",
    "ba.sync('bar')"
   ]
  },
  {
   "cell_type": "code",
   "execution_count": 33,
   "id": "56c2d003",
   "metadata": {},
   "outputs": [],
   "source": [
    "clock._nudge = 0.0"
   ]
  },
  {
   "cell_type": "code",
   "execution_count": null,
   "id": "7cef8e07",
   "metadata": {},
   "outputs": [],
   "source": []
  }
 ],
 "metadata": {
  "kernelspec": {
   "display_name": "Python 3 (ipykernel)",
   "language": "python",
   "name": "python3"
  },
  "language_info": {
   "codemirror_mode": {
    "name": "ipython",
    "version": 3
   },
   "file_extension": ".py",
   "mimetype": "text/x-python",
   "name": "python",
   "nbconvert_exporter": "python",
   "pygments_lexer": "ipython3",
   "version": "3.12.4"
  }
 },
 "nbformat": 4,
 "nbformat_minor": 5
}
