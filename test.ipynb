{
 "cells": [
  {
   "cell_type": "markdown",
   "metadata": {},
   "source": [
    "**Liste de problèmes rencontrés :**\n",
    "- la ré-évaluation d'un pattern est désormais impossible, le pattern devient silencieux !\n",
    "- déviation temporelle quand on utilise `p=0.25` mais pas `p=0.5` (toujours, pour tout les cas)\n",
    "- on commence toujours à `0 + p` au lieu de commencer à 0...\n",
    "- les notes MIDI n'ont pas l'air de se tuer au bon moment... sans doute lié à `clock.add`\n",
    "- tout le scheduling doit être relatif et ne surtout pas être absolu sinon on accumule les déviations temporelles\n",
    "  - seul la première évaluation et les updates doivent recaler sur le temps absolu\n"
   ]
  },
  {
   "cell_type": "code",
   "execution_count": 2,
   "metadata": {},
   "outputs": [],
   "source": [
    "from shrimp import *\n",
    "\n",
    "clock.delay = -9"
   ]
  },
  {
   "cell_type": "code",
   "execution_count": 3,
   "metadata": {},
   "outputs": [],
   "source": [
    "test_duration = 0.25\n",
    "p1 >> [\n",
    "    note(note=Pnote(15, 7, 5, 0, 10, 6, 4, 0), len=1 / 2, p=test_duration, limit=8),\n",
    "    note(note=Pnote(12, 7, 5, 0, 10, 6, 4, 0) - 5, len=1 / 2, p=test_duration, limit=8),\n",
    "    note(note=58, len=1 / 4, p=1 / 2, limit=4),\n",
    "]"
   ]
  },
  {
   "cell_type": "code",
   "execution_count": 4,
   "metadata": {},
   "outputs": [],
   "source": [
    "test_duration = 0.25\n",
    "p1 >> note(note=Pnote(15, 7, 5, 0, 10, 6, 4, 0), dur=1, p=test_duration, limit=8, len=1 / 4)"
   ]
  },
  {
   "cell_type": "code",
   "execution_count": null,
   "metadata": {},
   "outputs": [],
   "source": [
    "test_dur = 0.5\n",
    "p1 >> note(55, p=0.5)"
   ]
  },
  {
   "cell_type": "code",
   "execution_count": null,
   "metadata": {},
   "outputs": [],
   "source": [
    "clock.children[\"p1\"]\n",
    "clock.now"
   ]
  },
  {
   "cell_type": "code",
   "execution_count": null,
   "metadata": {},
   "outputs": [],
   "source": [
    "silence()"
   ]
  },
  {
   "cell_type": "code",
   "execution_count": null,
   "metadata": {},
   "outputs": [],
   "source": [
    "clock.beats_until_next_bar(as_int=False)"
   ]
  }
 ],
 "metadata": {
  "kernelspec": {
   "display_name": "Python 3",
   "language": "python",
   "name": "python3"
  },
  "language_info": {
   "codemirror_mode": {
    "name": "ipython",
    "version": 3
   },
   "file_extension": ".py",
   "mimetype": "text/x-python",
   "name": "python",
   "nbconvert_exporter": "python",
   "pygments_lexer": "ipython3",
   "version": "3.12.4"
  }
 },
 "nbformat": 4,
 "nbformat_minor": 2
}
