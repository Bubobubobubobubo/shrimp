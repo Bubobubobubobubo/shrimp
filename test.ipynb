{
 "cells": [
  {
   "cell_type": "code",
   "execution_count": 1,
   "id": "8d42ba11-829e-4a51-87b5-959e4941f70d",
   "metadata": {},
   "outputs": [
    {
     "data": {
      "text/html": [
       "<pre style=\"white-space:pre;overflow-x:auto;line-height:normal;font-family:Menlo,'DejaVu Sans Mono',consolas,'Courier New',monospace\"><span style=\"color: #000080; text-decoration-color: #000080; font-weight: bold\">oooooooooo.                         .                         </span>\n",
       "<span style=\"color: #000080; text-decoration-color: #000080; font-weight: bold\">`</span><span style=\"color: #000080; text-decoration-color: #000080; font-weight: bold\">888</span><span style=\"color: #000080; text-decoration-color: #000080; font-weight: bold\">'   `Y8b                      .o8                         </span>\n",
       "<span style=\"color: #000080; text-decoration-color: #000080; font-weight: bold\"> </span><span style=\"color: #000080; text-decoration-color: #000080; font-weight: bold\">888</span><span style=\"color: #000080; text-decoration-color: #000080; font-weight: bold\">     </span><span style=\"color: #000080; text-decoration-color: #000080; font-weight: bold\">888</span><span style=\"color: #000080; text-decoration-color: #000080; font-weight: bold\">  .oooo.    .oooo.o .o888oo  .ooooo.  ooo. .oo.   </span>\n",
       "<span style=\"color: #000080; text-decoration-color: #000080; font-weight: bold\"> 888oooo888' `P  )88b  d88(  </span><span style=\"color: #000080; text-decoration-color: #000080; font-weight: bold\">\"8   888   d88' `88b `888P\"</span><span style=\"color: #000080; text-decoration-color: #000080; font-weight: bold\">Y88b  </span>\n",
       "<span style=\"color: #000080; text-decoration-color: #000080; font-weight: bold\"> </span><span style=\"color: #000080; text-decoration-color: #000080; font-weight: bold\">888</span><span style=\"color: #000080; text-decoration-color: #000080; font-weight: bold\">    `88b  .oP\"</span><span style=\"color: #000080; text-decoration-color: #000080; font-weight: bold\">888</span><span style=\"color: #000080; text-decoration-color: #000080; font-weight: bold\">  `\"Y88b.    </span><span style=\"color: #000080; text-decoration-color: #000080; font-weight: bold\">888</span><span style=\"color: #000080; text-decoration-color: #000080; font-weight: bold\">   </span><span style=\"color: #000080; text-decoration-color: #000080; font-weight: bold\">888</span><span style=\"color: #000080; text-decoration-color: #000080; font-weight: bold\">   </span><span style=\"color: #000080; text-decoration-color: #000080; font-weight: bold\">888</span><span style=\"color: #000080; text-decoration-color: #000080; font-weight: bold\">  </span><span style=\"color: #000080; text-decoration-color: #000080; font-weight: bold\">888</span><span style=\"color: #000080; text-decoration-color: #000080; font-weight: bold\">   </span><span style=\"color: #000080; text-decoration-color: #000080; font-weight: bold\">888</span><span style=\"color: #000080; text-decoration-color: #000080; font-weight: bold\">  </span>\n",
       "<span style=\"color: #000080; text-decoration-color: #000080; font-weight: bold\"> </span><span style=\"color: #000080; text-decoration-color: #000080; font-weight: bold\">888</span><span style=\"color: #000080; text-decoration-color: #000080; font-weight: bold\">    .88P d8(  </span><span style=\"color: #000080; text-decoration-color: #000080; font-weight: bold\">888</span><span style=\"color: #000080; text-decoration-color: #000080; font-weight: bold\">  o.  )88b   </span><span style=\"color: #000080; text-decoration-color: #000080; font-weight: bold\">888</span><span style=\"color: #000080; text-decoration-color: #000080; font-weight: bold\"> . </span><span style=\"color: #000080; text-decoration-color: #000080; font-weight: bold\">888</span><span style=\"color: #000080; text-decoration-color: #000080; font-weight: bold\">   </span><span style=\"color: #000080; text-decoration-color: #000080; font-weight: bold\">888</span><span style=\"color: #000080; text-decoration-color: #000080; font-weight: bold\">  </span><span style=\"color: #000080; text-decoration-color: #000080; font-weight: bold\">888</span><span style=\"color: #000080; text-decoration-color: #000080; font-weight: bold\">   </span><span style=\"color: #000080; text-decoration-color: #000080; font-weight: bold\">888</span><span style=\"color: #000080; text-decoration-color: #000080; font-weight: bold\">  </span>\n",
       "<span style=\"color: #000080; text-decoration-color: #000080; font-weight: bold\">o888bood8P'  `Y888\"</span><span style=\"color: #000080; text-decoration-color: #000080; font-weight: bold\">\"8o 8\"\"888P'   \"888</span><span style=\"color: #000080; text-decoration-color: #000080; font-weight: bold\">\" `Y8bod8P' o888o o888o </span>\n",
       "<span style=\"color: #000080; text-decoration-color: #000080; font-weight: bold\">                                                              </span>\n",
       "<span style=\"color: #000080; text-decoration-color: #000080; font-weight: bold\">                                                              </span>\n",
       "<span style=\"color: #000080; text-decoration-color: #000080; font-weight: bold\">                                                              </span>\n",
       "\n",
       "<span style=\"color: #808000; text-decoration-color: #808000; font-weight: bold\">&gt; Live Coding tool, BuboBubo </span><span style=\"color: #808000; text-decoration-color: #808000; font-weight: bold\">0.0</span><span style=\"color: #808000; text-decoration-color: #808000; font-weight: bold\">.</span><span style=\"color: #808000; text-decoration-color: #808000; font-weight: bold\">1</span>\n",
       "</pre>\n"
      ],
      "text/plain": [
       "\u001b[1;34moooooooooo.                         .                         \u001b[0m\n",
       "\u001b[1;34m`\u001b[0m\u001b[1;34m888\u001b[0m\u001b[1;34m'   `Y8b                      .o8                         \u001b[0m\n",
       "\u001b[1;34m \u001b[0m\u001b[1;34m888\u001b[0m\u001b[1;34m     \u001b[0m\u001b[1;34m888\u001b[0m\u001b[1;34m  .oooo.    .oooo.o .o888oo  .ooooo.  ooo. .oo.   \u001b[0m\n",
       "\u001b[1;34m 888oooo888' `P  \u001b[0m\u001b[1;34m)\u001b[0m\u001b[1;34m88b  \u001b[0m\u001b[1;34md88\u001b[0m\u001b[1;34m(\u001b[0m\u001b[1;34m  \u001b[0m\u001b[1;34m\"8   888   d88' `88b `888P\"\u001b[0m\u001b[1;34mY88b  \u001b[0m\n",
       "\u001b[1;34m \u001b[0m\u001b[1;34m888\u001b[0m\u001b[1;34m    `88b  .oP\"\u001b[0m\u001b[1;34m888\u001b[0m\u001b[1;34m  `\"Y88b.    \u001b[0m\u001b[1;34m888\u001b[0m\u001b[1;34m   \u001b[0m\u001b[1;34m888\u001b[0m\u001b[1;34m   \u001b[0m\u001b[1;34m888\u001b[0m\u001b[1;34m  \u001b[0m\u001b[1;34m888\u001b[0m\u001b[1;34m   \u001b[0m\u001b[1;34m888\u001b[0m\u001b[1;34m  \u001b[0m\n",
       "\u001b[1;34m \u001b[0m\u001b[1;34m888\u001b[0m\u001b[1;34m    .88P \u001b[0m\u001b[1;34md8\u001b[0m\u001b[1;34m(\u001b[0m\u001b[1;34m  \u001b[0m\u001b[1;34m888\u001b[0m\u001b[1;34m  o.  \u001b[0m\u001b[1;34m)\u001b[0m\u001b[1;34m88b   \u001b[0m\u001b[1;34m888\u001b[0m\u001b[1;34m . \u001b[0m\u001b[1;34m888\u001b[0m\u001b[1;34m   \u001b[0m\u001b[1;34m888\u001b[0m\u001b[1;34m  \u001b[0m\u001b[1;34m888\u001b[0m\u001b[1;34m   \u001b[0m\u001b[1;34m888\u001b[0m\u001b[1;34m  \u001b[0m\n",
       "\u001b[1;34mo888bood8P'  `Y888\"\u001b[0m\u001b[1;34m\"8o 8\"\u001b[0m\u001b[1;34m\"888P'   \"\u001b[0m\u001b[1;34m888\u001b[0m\u001b[1;34m\" `Y8bod8P' o888o o888o \u001b[0m\n",
       "\u001b[1;34m                                                              \u001b[0m\n",
       "\u001b[1;34m                                                              \u001b[0m\n",
       "\u001b[1;34m                                                              \u001b[0m\n",
       "\n",
       "\u001b[1;33m> Live Coding tool, BuboBubo \u001b[0m\u001b[1;33m0.0\u001b[0m\u001b[1;33m.\u001b[0m\u001b[1;33m1\u001b[0m\n"
      ]
     },
     "metadata": {},
     "output_type": "display_data"
    },
    {
     "data": {
      "text/html": [
       "<pre style=\"white-space:pre;overflow-x:auto;line-height:normal;font-family:Menlo,'DejaVu Sans Mono',consolas,'Courier New',monospace\"><span style=\"color: #808000; text-decoration-color: #808000; font-weight: bold\">&gt; MIDI Output added: </span><span style=\"color: #800000; text-decoration-color: #800000; font-weight: bold\">midi</span><span style=\"color: #808000; text-decoration-color: #808000; font-weight: bold\"> </span>\n",
       "</pre>\n"
      ],
      "text/plain": [
       "\u001b[1;33m> MIDI Output added: \u001b[0m\u001b[1;31mmidi\u001b[0m\u001b[1;33m \u001b[0m\n"
      ]
     },
     "metadata": {},
     "output_type": "display_data"
    },
    {
     "data": {
      "text/html": [
       "<pre style=\"white-space:pre;overflow-x:auto;line-height:normal;font-family:Menlo,'DejaVu Sans Mono',consolas,'Courier New',monospace\"><span style=\"color: #808000; text-decoration-color: #808000; font-weight: bold\">&gt; MIDI Instrument added: </span><span style=\"color: #800000; text-decoration-color: #800000; font-weight: bold\">kabelsalat_instrument</span><span style=\"color: #808000; text-decoration-color: #808000; font-weight: bold\"> </span>\n",
       "</pre>\n"
      ],
      "text/plain": [
       "\u001b[1;33m> MIDI Instrument added: \u001b[0m\u001b[1;31mkabelsalat_instrument\u001b[0m\u001b[1;33m \u001b[0m\n"
      ]
     },
     "metadata": {},
     "output_type": "display_data"
    },
    {
     "data": {
      "text/html": [
       "<pre style=\"white-space:pre;overflow-x:auto;line-height:normal;font-family:Menlo,'DejaVu Sans Mono',consolas,'Courier New',monospace\"><span style=\"color: #808000; text-decoration-color: #808000; font-weight: bold\">&gt; OSC Port added: </span><span style=\"color: #800000; text-decoration-color: #800000; font-weight: bold\">superdirt</span><span style=\"color: #808000; text-decoration-color: #808000; font-weight: bold\"> </span>\n",
       "</pre>\n"
      ],
      "text/plain": [
       "\u001b[1;33m> OSC Port added: \u001b[0m\u001b[1;31msuperdirt\u001b[0m\u001b[1;33m \u001b[0m\n"
      ]
     },
     "metadata": {},
     "output_type": "display_data"
    }
   ],
   "source": [
    "from baston import *"
   ]
  },
  {
   "cell_type": "code",
   "execution_count": 4,
   "id": "b4097c44-af66-4668-99cb-a04ff4b435bd",
   "metadata": {},
   "outputs": [],
   "source": [
    "aa * n(Pseq(50, 55))"
   ]
  },
  {
   "cell_type": "code",
   "execution_count": 5,
   "id": "4b8a7937-58aa-490b-b1ea-74cb016d5764",
   "metadata": {},
   "outputs": [],
   "source": [
    "clock.play()"
   ]
  },
  {
   "cell_type": "code",
   "execution_count": 12,
   "id": "f2fbd5d0-74e6-4332-b94f-4d5037edf8d2",
   "metadata": {},
   "outputs": [
    {
     "data": {
      "text/html": [
       "<pre style=\"white-space:pre;overflow-x:auto;line-height:normal;font-family:Menlo,'DejaVu Sans Mono',consolas,'Courier New',monospace\">hello\n",
       "</pre>\n"
      ],
      "text/plain": [
       "hello\n"
      ]
     },
     "metadata": {},
     "output_type": "display_data"
    },
    {
     "data": {
      "text/html": [
       "<pre style=\"white-space:pre;overflow-x:auto;line-height:normal;font-family:Menlo,'DejaVu Sans Mono',consolas,'Courier New',monospace\">hello\n",
       "</pre>\n"
      ],
      "text/plain": [
       "hello\n"
      ]
     },
     "metadata": {},
     "output_type": "display_data"
    },
    {
     "data": {
      "text/html": [
       "<pre style=\"white-space:pre;overflow-x:auto;line-height:normal;font-family:Menlo,'DejaVu Sans Mono',consolas,'Courier New',monospace\">hello\n",
       "</pre>\n"
      ],
      "text/plain": [
       "hello\n"
      ]
     },
     "metadata": {},
     "output_type": "display_data"
    },
    {
     "data": {
      "text/html": [
       "<pre style=\"white-space:pre;overflow-x:auto;line-height:normal;font-family:Menlo,'DejaVu Sans Mono',consolas,'Courier New',monospace\">hello\n",
       "</pre>\n"
      ],
      "text/plain": [
       "hello\n"
      ]
     },
     "metadata": {},
     "output_type": "display_data"
    },
    {
     "data": {
      "text/html": [
       "<pre style=\"white-space:pre;overflow-x:auto;line-height:normal;font-family:Menlo,'DejaVu Sans Mono',consolas,'Courier New',monospace\">hello\n",
       "</pre>\n"
      ],
      "text/plain": [
       "hello\n"
      ]
     },
     "metadata": {},
     "output_type": "display_data"
    },
    {
     "data": {
      "text/html": [
       "<pre style=\"white-space:pre;overflow-x:auto;line-height:normal;font-family:Menlo,'DejaVu Sans Mono',consolas,'Courier New',monospace\">hello\n",
       "</pre>\n"
      ],
      "text/plain": [
       "hello\n"
      ]
     },
     "metadata": {},
     "output_type": "display_data"
    },
    {
     "data": {
      "text/html": [
       "<pre style=\"white-space:pre;overflow-x:auto;line-height:normal;font-family:Menlo,'DejaVu Sans Mono',consolas,'Courier New',monospace\">hello\n",
       "</pre>\n"
      ],
      "text/plain": [
       "hello\n"
      ]
     },
     "metadata": {},
     "output_type": "display_data"
    },
    {
     "data": {
      "text/html": [
       "<pre style=\"white-space:pre;overflow-x:auto;line-height:normal;font-family:Menlo,'DejaVu Sans Mono',consolas,'Courier New',monospace\">hello\n",
       "</pre>\n"
      ],
      "text/plain": [
       "hello\n"
      ]
     },
     "metadata": {},
     "output_type": "display_data"
    },
    {
     "data": {
      "text/html": [
       "<pre style=\"white-space:pre;overflow-x:auto;line-height:normal;font-family:Menlo,'DejaVu Sans Mono',consolas,'Courier New',monospace\">hello\n",
       "</pre>\n"
      ],
      "text/plain": [
       "hello\n"
      ]
     },
     "metadata": {},
     "output_type": "display_data"
    },
    {
     "data": {
      "text/html": [
       "<pre style=\"white-space:pre;overflow-x:auto;line-height:normal;font-family:Menlo,'DejaVu Sans Mono',consolas,'Courier New',monospace\">hello\n",
       "</pre>\n"
      ],
      "text/plain": [
       "hello\n"
      ]
     },
     "metadata": {},
     "output_type": "display_data"
    },
    {
     "data": {
      "text/html": [
       "<pre style=\"white-space:pre;overflow-x:auto;line-height:normal;font-family:Menlo,'DejaVu Sans Mono',consolas,'Courier New',monospace\">hello\n",
       "</pre>\n"
      ],
      "text/plain": [
       "hello\n"
      ]
     },
     "metadata": {},
     "output_type": "display_data"
    },
    {
     "data": {
      "text/html": [
       "<pre style=\"white-space:pre;overflow-x:auto;line-height:normal;font-family:Menlo,'DejaVu Sans Mono',consolas,'Courier New',monospace\">hello\n",
       "</pre>\n"
      ],
      "text/plain": [
       "hello\n"
      ]
     },
     "metadata": {},
     "output_type": "display_data"
    },
    {
     "data": {
      "text/html": [
       "<pre style=\"white-space:pre;overflow-x:auto;line-height:normal;font-family:Menlo,'DejaVu Sans Mono',consolas,'Courier New',monospace\">hello\n",
       "</pre>\n"
      ],
      "text/plain": [
       "hello\n"
      ]
     },
     "metadata": {},
     "output_type": "display_data"
    }
   ],
   "source": [
    "def recursive():\n",
    "    print(\"hello\")\n",
    "    loopr(recursive, time=1)"
   ]
  },
  {
   "cell_type": "code",
   "execution_count": 11,
   "id": "22dbb0f6-89b9-4a20-9b48-fc40b874f825",
   "metadata": {},
   "outputs": [],
   "source": [
    "recursive()"
   ]
  }
 ],
 "metadata": {
  "kernelspec": {
   "display_name": "Python 3 (ipykernel)",
   "language": "python",
   "name": "python3"
  },
  "language_info": {
   "codemirror_mode": {
    "name": "ipython",
    "version": 3
   },
   "file_extension": ".py",
   "mimetype": "text/x-python",
   "name": "python",
   "nbconvert_exporter": "python",
   "pygments_lexer": "ipython3",
   "version": "3.12.4"
  }
 },
 "nbformat": 4,
 "nbformat_minor": 5
}
