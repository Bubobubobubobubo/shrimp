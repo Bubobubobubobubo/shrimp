{
 "cells": [
  {
   "cell_type": "code",
   "execution_count": 1,
   "id": "d37ee850",
   "metadata": {},
   "outputs": [
    {
     "name": "stderr",
     "output_type": "stream",
     "text": [
      "Output device: Haut-parleurs MacBook Pro (44100Hz, buffer size 512 samples, 2 channels)\n"
     ]
    },
    {
     "name": "stdout",
     "output_type": "stream",
     "text": [
      "60 1\n",
      "60 1\n",
      "60 1\n",
      "62 1\n",
      "64 2\n",
      "62 2\n",
      "60 1\n",
      "64 1\n",
      "62 1\n",
      "62 1\n",
      "60 4\n",
      "60 1\n",
      "60 1\n",
      "60 1\n",
      "62 1\n"
     ]
    }
   ],
   "source": [
    "from baston import *\n",
    "clock.tempo = 140\n",
    "superdirt.nudge = 0.0"
   ]
  },
  {
   "cell_type": "code",
   "execution_count": 4,
   "id": "5b82cadf",
   "metadata": {},
   "outputs": [
    {
     "data": {
      "text/plain": [
       "Player ba, pattern: None"
      ]
     },
     "execution_count": 4,
     "metadata": {},
     "output_type": "execute_result"
    }
   ],
   "source": [
    "clock.tempo = 125\n",
    "aa * dirt(sound=P(\"bd\", \"print\", \"drum\", \"drum\"), \n",
    "          n=Pdur([4, Prand(1, 10), 2, Prand(10, 20)], [2, 6, 1, 2]),\n",
    "          pan=Psine(2, -0.5, 0.5), \n",
    "          dur=P(1/2, 1/2, Rest(2)), speed=Plin(1, 4, 20), quant='bar')\n",
    "bc * dirt(sound=\"uxay\", amp=1, speed=1, \n",
    "          dur=Pdur([Peuclid(5, 8)/2, 1/8], [3.5, 0.5]),\n",
    "          n=Pdur([0, 4], [3, 3]),\n",
    "          legato=1, quant='bar')\n",
    "ba * dirt(sound=\"808\", n=Prand(1, 20), \n",
    "          dur=Pdur([1/4, 1], [12, 2]),\n",
    "          pan=Psine(1/2, -1, 1), \n",
    "          legato=Plin(1/8, 1/2, 4),\n",
    "          dry=Pmbar(4, 0.125, 0.5), \n",
    "          orbit=2)"
   ]
  },
  {
   "cell_type": "code",
   "execution_count": null,
   "id": "7a001c9b",
   "metadata": {},
   "outputs": [],
   "source": [
    "clock.tempo = 95\n",
    "PlayerConfig._register['base'] = Pseq(\"bd\", \"print\", \"drum\", \"drum\")\n",
    "aa * dirt(sound=PlayerConfig._register['base'], \n",
    "          n=Pdur([4, Prand(1, 10), 2, Prand(10, 20)], [2, 6, 1, 2]),\n",
    "          pan=Psine(2, -0.5, 0.5), \n",
    "          dur=Pseq(1/2, 1/2, Rest(2)), speed=Plin(1, 4, 20), quant='bar')\n",
    "bc * dirt(sound=\"uxay\", amp=1, speed=1, \n",
    "          dur=Pdur([Peuclid(5, 8)/2, 1/8], [3.5, 0.5]),\n",
    "          n=Pdur([0, 4], [3, 3]),\n",
    "          legato=1, quant='bar')\n",
    "ba * dirt(sound=PlayerConfig._register['base'], n=Prand(1, 20), \n",
    "          dur=Pdur([1/4, 1], [12, 2]),\n",
    "          pan=Psine(1/2, -1, 1), \n",
    "          legato=Plin(1/8, 1/2, 4),\n",
    "          dry=Pmbar(4, 0.125, 0.5), \n",
    "          orbit=2)"
   ]
  },
  {
   "cell_type": "code",
   "execution_count": null,
   "id": "b172dc54",
   "metadata": {},
   "outputs": [],
   "source": [
    "seq_pattern = Pn(0, 3, 5, 7, reverse=True)\n",
    "saw_pattern = Pn(0, 2, 4, 5, reverse=True)\n",
    "morph_pattern = Pmorph([seq_pattern, saw_pattern], [4, 4]).int()\n"
   ]
  },
  {
   "cell_type": "code",
   "execution_count": null,
   "id": "5b66891c",
   "metadata": {},
   "outputs": [],
   "source": [
    "aa * n(note=Pmorph([seq_pattern, saw_pattern], [4, 4]).int(), \n",
    "       dur=Pdur([P(1/4, Rest(1/4)), P(1/16, Rest(1/16))], [4, 4]), duration=0.25\n",
    ")"
   ]
  },
  {
   "cell_type": "code",
   "execution_count": null,
   "id": "07bb3617",
   "metadata": {},
   "outputs": [],
   "source": [
    "a = Pbrown(20, 50, 2)"
   ]
  },
  {
   "cell_type": "code",
   "execution_count": null,
   "id": "6ef428d8",
   "metadata": {},
   "outputs": [],
   "source": [
    "clock.tempo = 125\n",
    "swing = 0.0\n",
    "aa * dirt(\n",
    "    sound=\"print\",\n",
    "    n=Pbrown(1, 10, 1, 20),\n",
    "    dur=Peuclid(P(1, 2, 3, 5, 8), 8)/4,\n",
    "    legato=0.5, active=Pdur([True, False], [2, 4]),\n",
    "    swing=0, dry=0.25, room=0.5, size=0.5, orbit=2,\n",
    ")\n",
    "ba * dirt(sound=\"808bd\", shape=.5, legato=1, swing=0)\n",
    "ca * dirt(sound=\"cp\", dur=P(Rest(3), 1), swing=0)"
   ]
  },
  {
   "cell_type": "code",
   "execution_count": null,
   "id": "53c998c1",
   "metadata": {},
   "outputs": [],
   "source": [
    "silence()"
   ]
  },
  {
   "cell_type": "code",
   "execution_count": null,
   "id": "062b9a5a",
   "metadata": {},
   "outputs": [],
   "source": [
    "clock.tempo = 125\n",
    "swing = 0.125/2\n",
    "aa * dirt(sound=\"bd\", dur=Pxo(\"xoxo\", .5), swing=swing, active=Pdur([True, False], [4, 8]))\n",
    "bb * dirt(sound=\"sn\", dur=Pxo(\"ooxo\", .5), swing=swing)\n",
    "cc * dirt(sound=\"hh\", dur=Pxo(\"xxxx\", .5), swing=swing)\n",
    "dd * dirt(sound=\"jvbass\", dur=Pxo(\"xxoo\", .5), swing=swing)\n",
    "ee * dirt(sound=\"jvbass\", dur=Pxo(\"xoxo\", .25), \n",
    "          speed=2, n=Pbrown(1, 20, 1), swing=swing, \n",
    "          room=0.5, size=0.85, dry=0.25, orbit=4)\n",
    "ff * dirt(sound=\"jvbass\", dur=Pchoose(1/4, Rest(1/4)),\n",
    "          pan=Psine(1, -1, 1), speed=Pseq(2, 4,2, 4),\n",
    "          n=Pbrown(1, 20, 1), swing=swing, active=Pdur([True, False], [4, 8]),\n",
    "          room=0.5, size=0.85, dry=0.25, orbit=4)"
   ]
  },
  {
   "cell_type": "code",
   "execution_count": 2,
   "id": "2baa0a29",
   "metadata": {},
   "outputs": [
    {
     "data": {
      "text/plain": [
       "Player ff, pattern: None"
      ]
     },
     "execution_count": 2,
     "metadata": {},
     "output_type": "execute_result"
    }
   ],
   "source": [
    "clock.tempo = 125\n",
    "swing = 0.125/2\n",
    "aa * dirt(sound=\"bd\", dur=Pxo(\"xoxo\", .5)/2, swing=swing, active=Pdur([True, False], [4, 8]))\n",
    "bb * dirt(sound=\"sn\", dur=Pxo(\"ooxo\", .5)/2, swing=swing)\n",
    "cc * dirt(sound=\"hh\", dur=Pxo(\"xxxx\", .5)/2, swing=swing)\n",
    "dd * dirt(sound=\"jvbass\", dur=Pxo(\"xoxo\", .5)/2, swing=swing, midinote=Pseq(48, 60, 72)+12)\n",
    "ee * dirt(sound=\"jvbass\", dur=Pxo(\"xoxo\", .25),\n",
    "          midinote=60,\n",
    "          speed=2, n=Pbrown(1, 20, 1), swing=swing, \n",
    "          room=0.5, size=0.85, dry=0.25, orbit=4)\n",
    "ff * dirt(sound=\"jvbass\", dur=Pchoose(1/4, Rest(1/4))/2,\n",
    "          midinote=48,\n",
    "          pan=Psine(1, -1, 1), speed=Pseq(2, 4,2, 4),\n",
    "          n=Pbrown(1, 20, 1), swing=swing, active=Pdur([True, False], [4, 8]),\n",
    "          room=0.5, size=0.85, dry=0.25, orbit=4)"
   ]
  },
  {
   "cell_type": "code",
   "execution_count": 1,
   "id": "609d4cb5",
   "metadata": {},
   "outputs": [
    {
     "name": "stderr",
     "output_type": "stream",
     "text": [
      "Output device: Haut-parleurs MacBook Pro (44100Hz, buffer size 512 samples, 2 channels)\n"
     ]
    }
   ],
   "source": [
    "from baston import *"
   ]
  },
  {
   "cell_type": "code",
   "execution_count": 1,
   "id": "0822c447",
   "metadata": {},
   "outputs": [
    {
     "ename": "NameError",
     "evalue": "name 'aa' is not defined",
     "output_type": "error",
     "traceback": [
      "\u001b[0;31m---------------------------------------------------------------------------\u001b[0m",
      "\u001b[0;31mNameError\u001b[0m                                 Traceback (most recent call last)",
      "Cell \u001b[0;32mIn[1], line 2\u001b[0m\n\u001b[1;32m      1\u001b[0m freq_seq \u001b[38;5;241m=\u001b[39m (\u001b[38;5;241m400\u001b[39m, \u001b[38;5;241m300\u001b[39m, \u001b[38;5;241m400\u001b[39m\u001b[38;5;241m*\u001b[39m\u001b[38;5;241m1.75\u001b[39m, \u001b[38;5;241m400\u001b[39m\u001b[38;5;241m*\u001b[39m\u001b[38;5;241m1.5\u001b[39m, \u001b[38;5;241m200\u001b[39m, \u001b[38;5;241m300\u001b[39m, \u001b[38;5;241m400\u001b[39m)\n\u001b[0;32m----> 2\u001b[0m \u001b[43maa\u001b[49m \u001b[38;5;241m*\u001b[39m ping(frequency\u001b[38;5;241m=\u001b[39mP(\u001b[38;5;241m*\u001b[39mfreq_seq), dur\u001b[38;5;241m=\u001b[39mPseq(\u001b[38;5;241m1\u001b[39m, Rest(\u001b[38;5;241m1\u001b[39m))\u001b[38;5;241m/\u001b[39m\u001b[38;5;241m4\u001b[39m, quant\u001b[38;5;241m=\u001b[39m\u001b[38;5;124m'\u001b[39m\u001b[38;5;124mbar\u001b[39m\u001b[38;5;124m'\u001b[39m)\n\u001b[1;32m      3\u001b[0m ba \u001b[38;5;241m*\u001b[39m ping(frequency\u001b[38;5;241m=\u001b[39mP(\u001b[38;5;241m*\u001b[39mfreq_seq)\u001b[38;5;241m*\u001b[39m\u001b[38;5;241m2\u001b[39m, dur\u001b[38;5;241m=\u001b[39mPseq(\u001b[38;5;241m1\u001b[39m, Rest(\u001b[38;5;241m1\u001b[39m))\u001b[38;5;241m/\u001b[39m\u001b[38;5;241m2\u001b[39m, quant\u001b[38;5;241m=\u001b[39m\u001b[38;5;124m'\u001b[39m\u001b[38;5;124mbar\u001b[39m\u001b[38;5;124m'\u001b[39m)\n",
      "\u001b[0;31mNameError\u001b[0m: name 'aa' is not defined"
     ]
    }
   ],
   "source": [
    "freq_seq = (400, 300, 400*1.75, 400*1.5, 200, 300, 400)\n",
    "aa * ping(frequency=P(*freq_seq), dur=Pseq(1, Rest(1))/4, quant='bar')\n",
    "ba * ping(frequency=P(*freq_seq)*2, dur=Pseq(1, Rest(1))/2, quant='bar')"
   ]
  },
  {
   "cell_type": "code",
   "execution_count": 1,
   "id": "2da14211",
   "metadata": {},
   "outputs": [
    {
     "name": "stderr",
     "output_type": "stream",
     "text": [
      "Output device: Haut-parleurs MacBook Pro (44100Hz, buffer size 512 samples, 2 channels)\n"
     ]
    },
    {
     "name": "stdout",
     "output_type": "stream",
     "text": [
      "Player aa - 60 - 4\n",
      "Player aa - 60 - 4\n",
      "Player aa - 62 - 4\n",
      "Player aa - 64 - 8\n",
      "Player aa - 62 - 8\n",
      "Player aa - 60 - 4\n",
      "Player aa - 64 - 4\n",
      "Player aa - 62 - 4\n"
     ]
    }
   ],
   "source": [
    "from baston import *\n",
    "clock.tempo = 140\n",
    "superdirt.nudge = 0.0"
   ]
  },
  {
   "cell_type": "code",
   "execution_count": 2,
   "id": "f07b1c38",
   "metadata": {},
   "outputs": [
    {
     "name": "stdout",
     "output_type": "stream",
     "text": [
      "Player aa - 60 - 4\n"
     ]
    }
   ],
   "source": [
    "# There is a bug with durations!\n",
    "aa * dirt(\n",
    "    sound=\"jvbass\",\n",
    "    midinote=Pn(0, 0, 0, 1, 2, 1, 0, 2, 1, 1, 0),\n",
    "    dur=P(1, 1, 1, 1, 2, 2, 1, 1, 1, 1, 4)*2\n",
    ")"
   ]
  },
  {
   "cell_type": "code",
   "execution_count": 4,
   "id": "eeab24c6",
   "metadata": {},
   "outputs": [],
   "source": [
    "silence()"
   ]
  },
  {
   "cell_type": "code",
   "execution_count": 3,
   "id": "d4752b30",
   "metadata": {},
   "outputs": [],
   "source": [
    "aa * dirt(sound=\"jvbass\", midinote=P(60, 65), dur=P(1/2, Rest(2)))"
   ]
  }
 ],
 "metadata": {
  "kernelspec": {
   "display_name": "Python 3 (ipykernel)",
   "language": "python",
   "name": "python3"
  },
  "language_info": {
   "codemirror_mode": {
    "name": "ipython",
    "version": 3
   },
   "file_extension": ".py",
   "mimetype": "text/x-python",
   "name": "python",
   "nbconvert_exporter": "python",
   "pygments_lexer": "ipython3",
   "version": "3.12.4"
  }
 },
 "nbformat": 4,
 "nbformat_minor": 5
}
