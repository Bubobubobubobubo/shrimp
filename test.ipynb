{
 "cells": [
  {
   "cell_type": "code",
   "execution_count": null,
   "metadata": {},
   "outputs": [],
   "source": [
    "from shrimp import *"
   ]
  },
  {
   "cell_type": "code",
   "execution_count": null,
   "metadata": {},
   "outputs": [],
   "source": [
    "fund_pattern = Pn(-4, 0, 3, 5).reverse() & Pn(-5, 0, 3, 6) & Pn(-6, 0, 4, 7) & Pn(-3, 0, 5, 9) \n",
    "fund_pattern = Pn(Pchoose(0, -14), Pdur([[0, 2, 4], [0, 2, 6]], [4, 4]), 2, 1)\n",
    "\n",
    "p1 * note((fund_pattern) + Pseq(0, 12, 5, 12+5).repeat(48), \n",
    "          p=P(1/4, 1/4) * Pseq(2, 1/2).repeat(12), vel=Psaw(1, 50, 127), dur=Plindur([1/4, 1], [4, 2]))\n",
    "p2 * note((fund_pattern) - Pseq(0, 24, 5, 24+5).repeat(48), \n",
    "          p=P(1/2, 1/2) * Pseq(2, 1/2).repeat(12) * 2, vel=Psaw(0.5, 50, 127), dur=Plindur([1/4, 1], [4, 2]) * 4)\n",
    "# p3 * note(Pn([0, 5, 7, 12], [0, 3, 5, 15], root=40).repeat([4, 2]), dur=2, p=1)"
   ]
  },
  {
   "cell_type": "code",
   "execution_count": null,
   "metadata": {},
   "outputs": [],
   "source": [
    "p1 * [\n",
    "    note(Pn(-8, 0, 3, 5) + Pseq(0, 5).repeat(8).reverse(), p=Peuclid(12, 16) / Pdur([4, 8], [8, 8]), dur=1/8),\n",
    "    note(Pn(-8, 0, 3, 5) + Pseq(0, 5).repeat(8).reverse(), p=Peuclid(12, 16) / Pdur([4, 8], [8, 8]), dur=1/8),\n",
    "]"
   ]
  },
  {
   "cell_type": "code",
   "execution_count": null,
   "metadata": {},
   "outputs": [],
   "source": [
    "from shrimp import *\n",
    "clock.tempo = 140\n",
    "clock.delay= -8"
   ]
  },
  {
   "cell_type": "code",
   "execution_count": null,
   "metadata": {},
   "outputs": [],
   "source": [
    "transpo = Pdur([0, 2], [16, 16])\n",
    "p1 * note(Pn(0, 0, 0, 3, 0, 0, 0, 3+9)+transpo, p=P(1/2, 1).repeat([3, 2]), dur=1/4)\n",
    "p2 * [\n",
    "    note(Pn(0, 0, 5, 10, 0, 3, 5, 7, 9, 10, 11, 12, 13)-24+transpo, p=P(1/2, 1).repeat([3, 2]), dur=1/8, limit=16),\n",
    "    note(Pn(0, 0, 5, 7, 0, 3, 0, 12)-24+transpo, p=P(1/2, 1).repeat([3, 2]), dur=1/8, limit=16)\n",
    "]\n",
    "p3 * [\n",
    "    note(Pn([0, 5, 10])+12+transpo, p=4*4, dur=4*4, limit=1),\n",
    "    note(Pn([0, 5, 10])+24+transpo, p=4*4, dur=4*4, limit=1),\n",
    "    note(Pn([0, 5, 10])+12+transpo, p=4*4, dur=4*4, limit=1),\n",
    "    note(Pn([0, 5, 10])+Pseq(24, 20, 15, 10), p=4, dur=2, limit=4),\n",
    "]\n",
    "p4 * note(Prand(60, 72)-24+transpo, p=Pchoose(1/2, 1/2), velocity=Psine(1, 50, 127).int(), channel=2)\n",
    "p5 * note(Pnote(Pbrown(0, 12, 4, 0).int())+12+transpo, p=Peuclid(10, 16)/2, dur=2, channel=1, velocity=50)"
   ]
  },
  {
   "cell_type": "code",
   "execution_count": null,
   "metadata": {},
   "outputs": [],
   "source": [
    "silence()"
   ]
  },
  {
   "cell_type": "code",
   "execution_count": 1,
   "metadata": {},
   "outputs": [
    {
     "name": "stderr",
     "output_type": "stream",
     "text": [
      "Output device: Haut-parleurs MacBook Pro (44100Hz, buffer size 256 samples, 2 channels)\n"
     ]
    }
   ],
   "source": [
    "from shrimp import *\n",
    "clock.delay=-8"
   ]
  },
  {
   "cell_type": "code",
   "execution_count": 56,
   "metadata": {},
   "outputs": [],
   "source": [
    "p1 * [\n",
    "    dirt(sound=\"808bd\", p=P(1.5, 1.5, 1), limit=8, amp=Phuman(0.9)),\n",
    "    dirt(sound=\"808bd\", n=Prand(1,10), p=P(1, 1, 1) / 2, limit=2, amp=Phuman(0.9)),\n",
    "]\n",
    "p2 * dirt(sound=P(\"808sd\", \"808cp\"), n=P(1, 2, 3), p=P(Rest(1), 1))\n",
    "p3 * dirt(sound=\"808oh\", \n",
    "          p=P(1/2)/2, \n",
    "          n=Parr(1,5,10),\n",
    "          amp=Phuman(0.3, 0.1),\n",
    "          speed=Phuman(1, 0.01),\n",
    "          legato=1/8, delay=0.7,\n",
    "          delayfeedback=0.75,\n",
    "          delaytime=Psine(0.5, 0.01, 1), \n",
    "          orbit=5, release=0.125/Pchoose(2,4)/4\n",
    ")\n",
    "p4 * dirt(sound=\"jvbass\", n=Pbrown(0, 10, 2), \n",
    "          p=4, dry=0.2, orbit=4, \n",
    "          active=Pchoose(True, True, False),\n",
    "          size=0.5, room=0.5\n",
    ")\n",
    "p5 * dirt(sound=\"jvbass\", \n",
    "          n=Pdur([[0, 2, 6],[0, 4, 8]], [4, 4]),\n",
    "          p=P(1/2, 1/2, 1), dry=0.2,\n",
    "          orbit=4, active=Pchoose(True, False, False),\n",
    "          size=0.5, room=0.5, speed=2,\n",
    ")"
   ]
  },
  {
   "cell_type": "code",
   "execution_count": 30,
   "metadata": {},
   "outputs": [
    {
     "data": {
      "text/plain": [
       "126.89901959726953"
      ]
     },
     "execution_count": 30,
     "metadata": {},
     "output_type": "execute_result"
    }
   ],
   "source": [
    "Phuman(127)(0)"
   ]
  },
  {
   "cell_type": "code",
   "execution_count": 30,
   "metadata": {},
   "outputs": [],
   "source": [
    "silence()"
   ]
  },
  {
   "cell_type": "code",
   "execution_count": null,
   "metadata": {},
   "outputs": [],
   "source": []
  }
 ],
 "metadata": {
  "kernelspec": {
   "display_name": "Python 3",
   "language": "python",
   "name": "python3"
  },
  "language_info": {
   "codemirror_mode": {
    "name": "ipython",
    "version": 3
   },
   "file_extension": ".py",
   "mimetype": "text/x-python",
   "name": "python",
   "nbconvert_exporter": "python",
   "pygments_lexer": "ipython3",
   "version": "3.12.4"
  }
 },
 "nbformat": 4,
 "nbformat_minor": 2
}
