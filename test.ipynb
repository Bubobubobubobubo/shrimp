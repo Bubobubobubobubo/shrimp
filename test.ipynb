{
 "cells": [
  {
   "cell_type": "code",
   "execution_count": 1,
   "id": "e5e9746e",
   "metadata": {},
   "outputs": [],
   "source": [
    "from baston import *\n",
    "clock.tempo = 80"
   ]
  },
  {
   "cell_type": "code",
   "execution_count": 11,
   "id": "3138991e",
   "metadata": {},
   "outputs": [],
   "source": [
    "def test():\n",
    "    midi.note(55, duration=1/4)\n",
    "    clock.add(test, time=clock.children[\"test\"].next_ideal_time + 1/2, relative=False)"
   ]
  },
  {
   "cell_type": "code",
   "execution_count": 12,
   "id": "3bd6a8be",
   "metadata": {},
   "outputs": [],
   "source": [
    "a = clock.add(test, time=clock.next_bar, relative=False)"
   ]
  },
  {
   "cell_type": "code",
   "execution_count": 13,
   "id": "93a2ef97",
   "metadata": {},
   "outputs": [],
   "source": [
    "midi.nudge = -0.1"
   ]
  },
  {
   "cell_type": "code",
   "execution_count": 26,
   "id": "0c4769ea",
   "metadata": {},
   "outputs": [],
   "source": [
    "clock._delay = -70"
   ]
  },
  {
   "cell_type": "code",
   "execution_count": null,
   "id": "de95227f",
   "metadata": {},
   "outputs": [],
   "source": []
  }
 ],
 "metadata": {
  "kernelspec": {
   "display_name": "Python 3 (ipykernel)",
   "language": "python",
   "name": "python3"
  },
  "language_info": {
   "codemirror_mode": {
    "name": "ipython",
    "version": 3
   },
   "file_extension": ".py",
   "mimetype": "text/x-python",
   "name": "python",
   "nbconvert_exporter": "python",
   "pygments_lexer": "ipython3",
   "version": "3.12.4"
  }
 },
 "nbformat": 4,
 "nbformat_minor": 5
}
