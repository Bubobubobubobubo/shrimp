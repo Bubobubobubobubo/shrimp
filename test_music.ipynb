{
 "cells": [
  {
   "cell_type": "code",
   "execution_count": null,
   "metadata": {},
   "outputs": [],
   "source": [
    "from shrimp import *"
   ]
  },
  {
   "cell_type": "code",
   "execution_count": 15,
   "metadata": {},
   "outputs": [],
   "source": [
    "p1 >> [\n",
    "    note(note=P(36, 40, 36, 40), velocity=Phuman(0.5), limit=8 * 4),\n",
    "    note(note=P(36, 40, 36, 42), velocity=Phuman(0.5), limit=8, speed=0.25),\n",
    "    note(note=P(36, 41, 36, 40), velocity=Phuman(0.5), limit=8),\n",
    "    note(note=P(36, 37, 38, 39).repeat([4]), velocity=Phuman(0.5), limit=16, p=Peuclid(9, 16) / 2),\n",
    "]\n",
    "p3 >> cc(channel=1, control=9, value=Prand(1, 100))\n",
    "p2 >> note(\n",
    "    note=42,\n",
    "    p=P(1 / 2, Peuclid(10, 16) / 2).repeat([16, 16]),\n",
    "    vel=Phuman(0.25),\n",
    "    speed=1,\n",
    "    quant=clock.beats_until_next_beat(),\n",
    ")\n",
    "p3 >> [\n",
    "    note(note=P(45, 46), p=P(R(1), 1 / 2), vel=Phuman(0.45), limit=12),\n",
    "    note(note=Parr(36, 1, 16), p=P(1 / 2, 1 / 2), vel=Phuman(0.45), limit=16),\n",
    "]\n",
    "p4 >> cc(control=Pchoose(10, 11), channel=1, value=Prand(1, 100))\n",
    "p5 >> cc(control=12, channel=1, value=Psine(1 / 8, 1, 127).int(), p=1 / 8)"
   ]
  }
 ],
 "metadata": {
  "kernelspec": {
   "display_name": "Python 3",
   "language": "python",
   "name": "python3"
  },
  "language_info": {
   "codemirror_mode": {
    "name": "ipython",
    "version": 3
   },
   "file_extension": ".py",
   "mimetype": "text/x-python",
   "name": "python",
   "nbconvert_exporter": "python",
   "pygments_lexer": "ipython3",
   "version": "3.12.4"
  }
 },
 "nbformat": 4,
 "nbformat_minor": 2
}
